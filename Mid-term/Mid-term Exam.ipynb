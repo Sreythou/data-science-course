{
 "cells": [
  {
   "cell_type": "markdown",
   "id": "suited-damage",
   "metadata": {},
   "source": [
    "# Data Science Mid-Term Exam\n",
    "Date: Jan 8, 2021\n",
    "Duration: 2 hours\n",
    "Max Marks: 70\n",
    "\n",
    "### 1. Write a R code to Generate 6X6 matrix (A) using the random numbers between 1 to 100 and generate another 6x6 matrix (B) using random numbers between 500 to 600. (20 Marks)\n",
    "    a. Find the range of matrices A and B.\n",
    "    b. Find the max value from each row of the matrices A and B.\n",
    "    c. Find the diagonal values of matrices A&amp;B.\n",
    "    d. Multiply matrices A and B\n",
    "    e. Replace the 4th row of Matrix A with diagonal values of matrix B\n",
    "    f. Multiply matrices A &amp; B and store the values on X.\n",
    "    g. Divide the matrix A with matrix B."
   ]
  },
  {
   "cell_type": "code",
   "execution_count": 1,
   "id": "proprietary-shoulder",
   "metadata": {},
   "outputs": [
    {
     "name": "stderr",
     "output_type": "stream",
     "text": [
      "Warning message in matrix(sample(1:100), 6, 6):\n",
      "\"data length [100] is not a sub-multiple or multiple of the number of rows [6]\"\n",
      "Warning message in matrix(sample(500:600), 6, 6):\n",
      "\"data length [101] is not a sub-multiple or multiple of the number of rows [6]\"\n"
     ]
    },
    {
     "data": {
      "text/html": [
       "<table class=\"dataframe\">\n",
       "<caption>A matrix: 6 × 6 of type int</caption>\n",
       "<tbody>\n",
       "\t<tr><td>41</td><td>12</td><td>99</td><td>47</td><td>34</td><td>68</td></tr>\n",
       "\t<tr><td>95</td><td>65</td><td>36</td><td>92</td><td>85</td><td>50</td></tr>\n",
       "\t<tr><td>39</td><td>16</td><td>75</td><td>37</td><td>88</td><td>33</td></tr>\n",
       "\t<tr><td>61</td><td>72</td><td>27</td><td>82</td><td> 4</td><td>59</td></tr>\n",
       "\t<tr><td>96</td><td>24</td><td>71</td><td>94</td><td>44</td><td>19</td></tr>\n",
       "\t<tr><td>86</td><td>15</td><td>30</td><td>93</td><td>46</td><td> 8</td></tr>\n",
       "</tbody>\n",
       "</table>\n"
      ],
      "text/latex": [
       "A matrix: 6 × 6 of type int\n",
       "\\begin{tabular}{llllll}\n",
       "\t 41 & 12 & 99 & 47 & 34 & 68\\\\\n",
       "\t 95 & 65 & 36 & 92 & 85 & 50\\\\\n",
       "\t 39 & 16 & 75 & 37 & 88 & 33\\\\\n",
       "\t 61 & 72 & 27 & 82 &  4 & 59\\\\\n",
       "\t 96 & 24 & 71 & 94 & 44 & 19\\\\\n",
       "\t 86 & 15 & 30 & 93 & 46 &  8\\\\\n",
       "\\end{tabular}\n"
      ],
      "text/markdown": [
       "\n",
       "A matrix: 6 × 6 of type int\n",
       "\n",
       "| 41 | 12 | 99 | 47 | 34 | 68 |\n",
       "| 95 | 65 | 36 | 92 | 85 | 50 |\n",
       "| 39 | 16 | 75 | 37 | 88 | 33 |\n",
       "| 61 | 72 | 27 | 82 |  4 | 59 |\n",
       "| 96 | 24 | 71 | 94 | 44 | 19 |\n",
       "| 86 | 15 | 30 | 93 | 46 |  8 |\n",
       "\n"
      ],
      "text/plain": [
       "     [,1] [,2] [,3] [,4] [,5] [,6]\n",
       "[1,] 41   12   99   47   34   68  \n",
       "[2,] 95   65   36   92   85   50  \n",
       "[3,] 39   16   75   37   88   33  \n",
       "[4,] 61   72   27   82    4   59  \n",
       "[5,] 96   24   71   94   44   19  \n",
       "[6,] 86   15   30   93   46    8  "
      ]
     },
     "metadata": {},
     "output_type": "display_data"
    },
    {
     "data": {
      "text/html": [
       "<table class=\"dataframe\">\n",
       "<caption>A matrix: 6 × 6 of type int</caption>\n",
       "<tbody>\n",
       "\t<tr><td>555</td><td>522</td><td>579</td><td>600</td><td>541</td><td>569</td></tr>\n",
       "\t<tr><td>588</td><td>556</td><td>526</td><td>516</td><td>506</td><td>567</td></tr>\n",
       "\t<tr><td>599</td><td>514</td><td>509</td><td>545</td><td>535</td><td>542</td></tr>\n",
       "\t<tr><td>580</td><td>564</td><td>566</td><td>534</td><td>582</td><td>552</td></tr>\n",
       "\t<tr><td>585</td><td>511</td><td>583</td><td>540</td><td>505</td><td>517</td></tr>\n",
       "\t<tr><td>510</td><td>577</td><td>513</td><td>562</td><td>596</td><td>538</td></tr>\n",
       "</tbody>\n",
       "</table>\n"
      ],
      "text/latex": [
       "A matrix: 6 × 6 of type int\n",
       "\\begin{tabular}{llllll}\n",
       "\t 555 & 522 & 579 & 600 & 541 & 569\\\\\n",
       "\t 588 & 556 & 526 & 516 & 506 & 567\\\\\n",
       "\t 599 & 514 & 509 & 545 & 535 & 542\\\\\n",
       "\t 580 & 564 & 566 & 534 & 582 & 552\\\\\n",
       "\t 585 & 511 & 583 & 540 & 505 & 517\\\\\n",
       "\t 510 & 577 & 513 & 562 & 596 & 538\\\\\n",
       "\\end{tabular}\n"
      ],
      "text/markdown": [
       "\n",
       "A matrix: 6 × 6 of type int\n",
       "\n",
       "| 555 | 522 | 579 | 600 | 541 | 569 |\n",
       "| 588 | 556 | 526 | 516 | 506 | 567 |\n",
       "| 599 | 514 | 509 | 545 | 535 | 542 |\n",
       "| 580 | 564 | 566 | 534 | 582 | 552 |\n",
       "| 585 | 511 | 583 | 540 | 505 | 517 |\n",
       "| 510 | 577 | 513 | 562 | 596 | 538 |\n",
       "\n"
      ],
      "text/plain": [
       "     [,1] [,2] [,3] [,4] [,5] [,6]\n",
       "[1,] 555  522  579  600  541  569 \n",
       "[2,] 588  556  526  516  506  567 \n",
       "[3,] 599  514  509  545  535  542 \n",
       "[4,] 580  564  566  534  582  552 \n",
       "[5,] 585  511  583  540  505  517 \n",
       "[6,] 510  577  513  562  596  538 "
      ]
     },
     "metadata": {},
     "output_type": "display_data"
    }
   ],
   "source": [
    "# Create A and B matrices\n",
    "\n",
    "A <- matrix(sample(1:100), 6, 6)\n",
    "B <- matrix(sample(500:600), 6, 6)\n",
    "\n",
    "# Print A and B\n",
    "A\n",
    "B"
   ]
  },
  {
   "cell_type": "code",
   "execution_count": 2,
   "id": "fifty-canvas",
   "metadata": {},
   "outputs": [
    {
     "data": {
      "text/html": [
       "<style>\n",
       ".list-inline {list-style: none; margin:0; padding: 0}\n",
       ".list-inline>li {display: inline-block}\n",
       ".list-inline>li:not(:last-child)::after {content: \"\\00b7\"; padding: 0 .5ex}\n",
       "</style>\n",
       "<ol class=list-inline><li>4</li><li>99</li></ol>\n"
      ],
      "text/latex": [
       "\\begin{enumerate*}\n",
       "\\item 4\n",
       "\\item 99\n",
       "\\end{enumerate*}\n"
      ],
      "text/markdown": [
       "1. 4\n",
       "2. 99\n",
       "\n",
       "\n"
      ],
      "text/plain": [
       "[1]  4 99"
      ]
     },
     "metadata": {},
     "output_type": "display_data"
    },
    {
     "data": {
      "text/html": [
       "<style>\n",
       ".list-inline {list-style: none; margin:0; padding: 0}\n",
       ".list-inline>li {display: inline-block}\n",
       ".list-inline>li:not(:last-child)::after {content: \"\\00b7\"; padding: 0 .5ex}\n",
       "</style>\n",
       "<ol class=list-inline><li>505</li><li>600</li></ol>\n"
      ],
      "text/latex": [
       "\\begin{enumerate*}\n",
       "\\item 505\n",
       "\\item 600\n",
       "\\end{enumerate*}\n"
      ],
      "text/markdown": [
       "1. 505\n",
       "2. 600\n",
       "\n",
       "\n"
      ],
      "text/plain": [
       "[1] 505 600"
      ]
     },
     "metadata": {},
     "output_type": "display_data"
    }
   ],
   "source": [
    "# a. Find the range of matrices A and B.\n",
    "# Using range() \n",
    "\n",
    "range(A)\n",
    "range(B)"
   ]
  },
  {
   "cell_type": "code",
   "execution_count": 3,
   "id": "excess-might",
   "metadata": {},
   "outputs": [
    {
     "data": {
      "text/html": [
       "99"
      ],
      "text/latex": [
       "99"
      ],
      "text/markdown": [
       "99"
      ],
      "text/plain": [
       "[1] 99"
      ]
     },
     "metadata": {},
     "output_type": "display_data"
    },
    {
     "data": {
      "text/html": [
       "600"
      ],
      "text/latex": [
       "600"
      ],
      "text/markdown": [
       "600"
      ],
      "text/plain": [
       "[1] 600"
      ]
     },
     "metadata": {},
     "output_type": "display_data"
    }
   ],
   "source": [
    "# b. Find the max value from each row of the matrices A and B.\n",
    "# Using max() \n",
    "\n",
    "max(A)\n",
    "max(B)"
   ]
  },
  {
   "cell_type": "code",
   "execution_count": 4,
   "id": "certified-spelling",
   "metadata": {},
   "outputs": [
    {
     "data": {
      "text/html": [
       "<style>\n",
       ".list-inline {list-style: none; margin:0; padding: 0}\n",
       ".list-inline>li {display: inline-block}\n",
       ".list-inline>li:not(:last-child)::after {content: \"\\00b7\"; padding: 0 .5ex}\n",
       "</style>\n",
       "<ol class=list-inline><li>41</li><li>65</li><li>75</li><li>82</li><li>44</li><li>8</li></ol>\n"
      ],
      "text/latex": [
       "\\begin{enumerate*}\n",
       "\\item 41\n",
       "\\item 65\n",
       "\\item 75\n",
       "\\item 82\n",
       "\\item 44\n",
       "\\item 8\n",
       "\\end{enumerate*}\n"
      ],
      "text/markdown": [
       "1. 41\n",
       "2. 65\n",
       "3. 75\n",
       "4. 82\n",
       "5. 44\n",
       "6. 8\n",
       "\n",
       "\n"
      ],
      "text/plain": [
       "[1] 41 65 75 82 44  8"
      ]
     },
     "metadata": {},
     "output_type": "display_data"
    },
    {
     "data": {
      "text/html": [
       "<style>\n",
       ".list-inline {list-style: none; margin:0; padding: 0}\n",
       ".list-inline>li {display: inline-block}\n",
       ".list-inline>li:not(:last-child)::after {content: \"\\00b7\"; padding: 0 .5ex}\n",
       "</style>\n",
       "<ol class=list-inline><li>555</li><li>556</li><li>509</li><li>534</li><li>505</li><li>538</li></ol>\n"
      ],
      "text/latex": [
       "\\begin{enumerate*}\n",
       "\\item 555\n",
       "\\item 556\n",
       "\\item 509\n",
       "\\item 534\n",
       "\\item 505\n",
       "\\item 538\n",
       "\\end{enumerate*}\n"
      ],
      "text/markdown": [
       "1. 555\n",
       "2. 556\n",
       "3. 509\n",
       "4. 534\n",
       "5. 505\n",
       "6. 538\n",
       "\n",
       "\n"
      ],
      "text/plain": [
       "[1] 555 556 509 534 505 538"
      ]
     },
     "metadata": {},
     "output_type": "display_data"
    }
   ],
   "source": [
    "# c. Find the diagonal values of matrices A and B\n",
    "# Using diag()\n",
    "\n",
    "diag(A)\n",
    "diag(B)"
   ]
  },
  {
   "cell_type": "code",
   "execution_count": 5,
   "id": "thermal-expense",
   "metadata": {},
   "outputs": [
    {
     "data": {
      "text/html": [
       "<table class=\"dataframe\">\n",
       "<caption>A matrix: 6 × 6 of type dbl</caption>\n",
       "<tbody>\n",
       "\t<tr><td>170942</td><td>162078</td><td>161750</td><td>166421</td><td>166270</td><td>163897</td></tr>\n",
       "\t<tr><td>241094</td><td>228407</td><td>234796</td><td>233288</td><td>229814</td><td>232051</td></tr>\n",
       "\t<tr><td>165748</td><td>152681</td><td>158347</td><td>158355</td><td>154962</td><td>155587</td></tr>\n",
       "\t<tr><td>172354</td><td>168087</td><td>165945</td><td>167573</td><td>168786</td><td>169241</td></tr>\n",
       "\t<tr><td>199871</td><td>186413</td><td>192950</td><td>193313</td><td>190317</td><td>191572</td></tr>\n",
       "\t<tr><td>159450</td><td>149226</td><td>156514</td><td>154688</td><td>152290</td><td>153121</td></tr>\n",
       "</tbody>\n",
       "</table>\n"
      ],
      "text/latex": [
       "A matrix: 6 × 6 of type dbl\n",
       "\\begin{tabular}{llllll}\n",
       "\t 170942 & 162078 & 161750 & 166421 & 166270 & 163897\\\\\n",
       "\t 241094 & 228407 & 234796 & 233288 & 229814 & 232051\\\\\n",
       "\t 165748 & 152681 & 158347 & 158355 & 154962 & 155587\\\\\n",
       "\t 172354 & 168087 & 165945 & 167573 & 168786 & 169241\\\\\n",
       "\t 199871 & 186413 & 192950 & 193313 & 190317 & 191572\\\\\n",
       "\t 159450 & 149226 & 156514 & 154688 & 152290 & 153121\\\\\n",
       "\\end{tabular}\n"
      ],
      "text/markdown": [
       "\n",
       "A matrix: 6 × 6 of type dbl\n",
       "\n",
       "| 170942 | 162078 | 161750 | 166421 | 166270 | 163897 |\n",
       "| 241094 | 228407 | 234796 | 233288 | 229814 | 232051 |\n",
       "| 165748 | 152681 | 158347 | 158355 | 154962 | 155587 |\n",
       "| 172354 | 168087 | 165945 | 167573 | 168786 | 169241 |\n",
       "| 199871 | 186413 | 192950 | 193313 | 190317 | 191572 |\n",
       "| 159450 | 149226 | 156514 | 154688 | 152290 | 153121 |\n",
       "\n"
      ],
      "text/plain": [
       "     [,1]   [,2]   [,3]   [,4]   [,5]   [,6]  \n",
       "[1,] 170942 162078 161750 166421 166270 163897\n",
       "[2,] 241094 228407 234796 233288 229814 232051\n",
       "[3,] 165748 152681 158347 158355 154962 155587\n",
       "[4,] 172354 168087 165945 167573 168786 169241\n",
       "[5,] 199871 186413 192950 193313 190317 191572\n",
       "[6,] 159450 149226 156514 154688 152290 153121"
      ]
     },
     "metadata": {},
     "output_type": "display_data"
    }
   ],
   "source": [
    "# d. Multiply matrices A and B\n",
    "# Using %*% operator\n",
    "\n",
    "A %*% B"
   ]
  },
  {
   "cell_type": "code",
   "execution_count": 6,
   "id": "classical-arrest",
   "metadata": {},
   "outputs": [
    {
     "data": {
      "text/html": [
       "<table class=\"dataframe\">\n",
       "<caption>A matrix: 6 × 6 of type int</caption>\n",
       "<tbody>\n",
       "\t<tr><td> 41</td><td> 12</td><td> 99</td><td> 47</td><td> 34</td><td> 68</td></tr>\n",
       "\t<tr><td> 95</td><td> 65</td><td> 36</td><td> 92</td><td> 85</td><td> 50</td></tr>\n",
       "\t<tr><td> 39</td><td> 16</td><td> 75</td><td> 37</td><td> 88</td><td> 33</td></tr>\n",
       "\t<tr><td>555</td><td>556</td><td>509</td><td>534</td><td>505</td><td>538</td></tr>\n",
       "\t<tr><td> 96</td><td> 24</td><td> 71</td><td> 94</td><td> 44</td><td> 19</td></tr>\n",
       "\t<tr><td> 86</td><td> 15</td><td> 30</td><td> 93</td><td> 46</td><td>  8</td></tr>\n",
       "</tbody>\n",
       "</table>\n"
      ],
      "text/latex": [
       "A matrix: 6 × 6 of type int\n",
       "\\begin{tabular}{llllll}\n",
       "\t  41 &  12 &  99 &  47 &  34 &  68\\\\\n",
       "\t  95 &  65 &  36 &  92 &  85 &  50\\\\\n",
       "\t  39 &  16 &  75 &  37 &  88 &  33\\\\\n",
       "\t 555 & 556 & 509 & 534 & 505 & 538\\\\\n",
       "\t  96 &  24 &  71 &  94 &  44 &  19\\\\\n",
       "\t  86 &  15 &  30 &  93 &  46 &   8\\\\\n",
       "\\end{tabular}\n"
      ],
      "text/markdown": [
       "\n",
       "A matrix: 6 × 6 of type int\n",
       "\n",
       "|  41 |  12 |  99 |  47 |  34 |  68 |\n",
       "|  95 |  65 |  36 |  92 |  85 |  50 |\n",
       "|  39 |  16 |  75 |  37 |  88 |  33 |\n",
       "| 555 | 556 | 509 | 534 | 505 | 538 |\n",
       "|  96 |  24 |  71 |  94 |  44 |  19 |\n",
       "|  86 |  15 |  30 |  93 |  46 |   8 |\n",
       "\n"
      ],
      "text/plain": [
       "     [,1] [,2] [,3] [,4] [,5] [,6]\n",
       "[1,]  41   12   99   47   34   68 \n",
       "[2,]  95   65   36   92   85   50 \n",
       "[3,]  39   16   75   37   88   33 \n",
       "[4,] 555  556  509  534  505  538 \n",
       "[5,]  96   24   71   94   44   19 \n",
       "[6,]  86   15   30   93   46    8 "
      ]
     },
     "metadata": {},
     "output_type": "display_data"
    }
   ],
   "source": [
    "# e. Replace the 4th row of Matrix A with diagonal values of matrix B\n",
    "# Using subsetting []\n",
    "\n",
    "A[4, ] <- diag(B)\n",
    "A"
   ]
  },
  {
   "cell_type": "code",
   "execution_count": 7,
   "id": "social-region",
   "metadata": {},
   "outputs": [
    {
     "data": {
      "text/html": [
       "<table class=\"dataframe\">\n",
       "<caption>A matrix: 6 × 6 of type dbl</caption>\n",
       "<tbody>\n",
       "\t<tr><td> 170942</td><td> 162078</td><td> 161750</td><td> 166421</td><td> 166270</td><td> 163897</td></tr>\n",
       "\t<tr><td> 241094</td><td> 228407</td><td> 234796</td><td> 233288</td><td> 229814</td><td> 232051</td></tr>\n",
       "\t<tr><td> 165748</td><td> 152681</td><td> 158347</td><td> 158355</td><td> 154962</td><td> 155587</td></tr>\n",
       "\t<tr><td>1819369</td><td>1730129</td><td>1745535</td><td>1757513</td><td>1740367</td><td>1752222</td></tr>\n",
       "\t<tr><td> 199871</td><td> 186413</td><td> 192950</td><td> 193313</td><td> 190317</td><td> 191572</td></tr>\n",
       "\t<tr><td> 159450</td><td> 149226</td><td> 156514</td><td> 154688</td><td> 152290</td><td> 153121</td></tr>\n",
       "</tbody>\n",
       "</table>\n"
      ],
      "text/latex": [
       "A matrix: 6 × 6 of type dbl\n",
       "\\begin{tabular}{llllll}\n",
       "\t  170942 &  162078 &  161750 &  166421 &  166270 &  163897\\\\\n",
       "\t  241094 &  228407 &  234796 &  233288 &  229814 &  232051\\\\\n",
       "\t  165748 &  152681 &  158347 &  158355 &  154962 &  155587\\\\\n",
       "\t 1819369 & 1730129 & 1745535 & 1757513 & 1740367 & 1752222\\\\\n",
       "\t  199871 &  186413 &  192950 &  193313 &  190317 &  191572\\\\\n",
       "\t  159450 &  149226 &  156514 &  154688 &  152290 &  153121\\\\\n",
       "\\end{tabular}\n"
      ],
      "text/markdown": [
       "\n",
       "A matrix: 6 × 6 of type dbl\n",
       "\n",
       "|  170942 |  162078 |  161750 |  166421 |  166270 |  163897 |\n",
       "|  241094 |  228407 |  234796 |  233288 |  229814 |  232051 |\n",
       "|  165748 |  152681 |  158347 |  158355 |  154962 |  155587 |\n",
       "| 1819369 | 1730129 | 1745535 | 1757513 | 1740367 | 1752222 |\n",
       "|  199871 |  186413 |  192950 |  193313 |  190317 |  191572 |\n",
       "|  159450 |  149226 |  156514 |  154688 |  152290 |  153121 |\n",
       "\n"
      ],
      "text/plain": [
       "     [,1]    [,2]    [,3]    [,4]    [,5]    [,6]   \n",
       "[1,]  170942  162078  161750  166421  166270  163897\n",
       "[2,]  241094  228407  234796  233288  229814  232051\n",
       "[3,]  165748  152681  158347  158355  154962  155587\n",
       "[4,] 1819369 1730129 1745535 1757513 1740367 1752222\n",
       "[5,]  199871  186413  192950  193313  190317  191572\n",
       "[6,]  159450  149226  156514  154688  152290  153121"
      ]
     },
     "metadata": {},
     "output_type": "display_data"
    }
   ],
   "source": [
    "# f. Multiply matrices A & B and store the values on X.\n",
    "\n",
    "X <- A %*% B\n",
    "X"
   ]
  },
  {
   "cell_type": "code",
   "execution_count": 8,
   "id": "first-wrapping",
   "metadata": {},
   "outputs": [
    {
     "data": {
      "text/html": [
       "<table class=\"dataframe\">\n",
       "<caption>A matrix: 6 × 6 of type dbl</caption>\n",
       "<tbody>\n",
       "\t<tr><td>0.07387387</td><td>0.02298851</td><td>0.17098446</td><td>0.07833333</td><td>0.06284658</td><td>0.11950791</td></tr>\n",
       "\t<tr><td>0.16156463</td><td>0.11690647</td><td>0.06844106</td><td>0.17829457</td><td>0.16798419</td><td>0.08818342</td></tr>\n",
       "\t<tr><td>0.06510851</td><td>0.03112840</td><td>0.14734774</td><td>0.06788991</td><td>0.16448598</td><td>0.06088561</td></tr>\n",
       "\t<tr><td>0.95689655</td><td>0.98581560</td><td>0.89929329</td><td>1.00000000</td><td>0.86769759</td><td>0.97463768</td></tr>\n",
       "\t<tr><td>0.16410256</td><td>0.04696673</td><td>0.12178388</td><td>0.17407407</td><td>0.08712871</td><td>0.03675048</td></tr>\n",
       "\t<tr><td>0.16862745</td><td>0.02599653</td><td>0.05847953</td><td>0.16548043</td><td>0.07718121</td><td>0.01486989</td></tr>\n",
       "</tbody>\n",
       "</table>\n"
      ],
      "text/latex": [
       "A matrix: 6 × 6 of type dbl\n",
       "\\begin{tabular}{llllll}\n",
       "\t 0.07387387 & 0.02298851 & 0.17098446 & 0.07833333 & 0.06284658 & 0.11950791\\\\\n",
       "\t 0.16156463 & 0.11690647 & 0.06844106 & 0.17829457 & 0.16798419 & 0.08818342\\\\\n",
       "\t 0.06510851 & 0.03112840 & 0.14734774 & 0.06788991 & 0.16448598 & 0.06088561\\\\\n",
       "\t 0.95689655 & 0.98581560 & 0.89929329 & 1.00000000 & 0.86769759 & 0.97463768\\\\\n",
       "\t 0.16410256 & 0.04696673 & 0.12178388 & 0.17407407 & 0.08712871 & 0.03675048\\\\\n",
       "\t 0.16862745 & 0.02599653 & 0.05847953 & 0.16548043 & 0.07718121 & 0.01486989\\\\\n",
       "\\end{tabular}\n"
      ],
      "text/markdown": [
       "\n",
       "A matrix: 6 × 6 of type dbl\n",
       "\n",
       "| 0.07387387 | 0.02298851 | 0.17098446 | 0.07833333 | 0.06284658 | 0.11950791 |\n",
       "| 0.16156463 | 0.11690647 | 0.06844106 | 0.17829457 | 0.16798419 | 0.08818342 |\n",
       "| 0.06510851 | 0.03112840 | 0.14734774 | 0.06788991 | 0.16448598 | 0.06088561 |\n",
       "| 0.95689655 | 0.98581560 | 0.89929329 | 1.00000000 | 0.86769759 | 0.97463768 |\n",
       "| 0.16410256 | 0.04696673 | 0.12178388 | 0.17407407 | 0.08712871 | 0.03675048 |\n",
       "| 0.16862745 | 0.02599653 | 0.05847953 | 0.16548043 | 0.07718121 | 0.01486989 |\n",
       "\n"
      ],
      "text/plain": [
       "     [,1]       [,2]       [,3]       [,4]       [,5]       [,6]      \n",
       "[1,] 0.07387387 0.02298851 0.17098446 0.07833333 0.06284658 0.11950791\n",
       "[2,] 0.16156463 0.11690647 0.06844106 0.17829457 0.16798419 0.08818342\n",
       "[3,] 0.06510851 0.03112840 0.14734774 0.06788991 0.16448598 0.06088561\n",
       "[4,] 0.95689655 0.98581560 0.89929329 1.00000000 0.86769759 0.97463768\n",
       "[5,] 0.16410256 0.04696673 0.12178388 0.17407407 0.08712871 0.03675048\n",
       "[6,] 0.16862745 0.02599653 0.05847953 0.16548043 0.07718121 0.01486989"
      ]
     },
     "metadata": {},
     "output_type": "display_data"
    }
   ],
   "source": [
    "# g. Divide the matrix A with matrix B.\n",
    "# Using / operator\n",
    "\n",
    "A/B"
   ]
  },
  {
   "cell_type": "markdown",
   "id": "local-pacific",
   "metadata": {},
   "source": [
    "### 2. Create a table using dataframe/tibble with the following categories(a to f) (10 marks)\n",
    "    a. First name,\n",
    "    b. Second Name,\n",
    "    c. Age,\n",
    "    d. Occupation,\n",
    "    e. Place,\n",
    "    f. Random numbers( between 1 to 10)\n",
    "\n",
    "And input at least 10 samples(observation) and do the following:  \n",
    "    \n",
    "    g. Extract the last column (f)  \n",
    "    h. Find the sum, mean and length of the extracted column"
   ]
  },
  {
   "cell_type": "code",
   "execution_count": 9,
   "id": "flexible-yugoslavia",
   "metadata": {},
   "outputs": [
    {
     "data": {
      "text/html": [
       "<table class=\"dataframe\">\n",
       "<caption>A data.frame: 10 × 6</caption>\n",
       "<thead>\n",
       "\t<tr><th scope=col>First.Name</th><th scope=col>Second.Name</th><th scope=col>Age</th><th scope=col>Occupation</th><th scope=col>Place</th><th scope=col>Random.Number</th></tr>\n",
       "\t<tr><th scope=col>&lt;chr&gt;</th><th scope=col>&lt;chr&gt;</th><th scope=col>&lt;dbl&gt;</th><th scope=col>&lt;chr&gt;</th><th scope=col>&lt;chr&gt;</th><th scope=col>&lt;int&gt;</th></tr>\n",
       "</thead>\n",
       "<tbody>\n",
       "\t<tr><td>Khean</td><td>Sreythou </td><td>20</td><td>Engineering     </td><td>Kirirom         </td><td> 3</td></tr>\n",
       "\t<tr><td>Thon </td><td>Lynan    </td><td>21</td><td>Teacher         </td><td>Banteay Meanchey</td><td> 7</td></tr>\n",
       "\t<tr><td>Pich </td><td>Sovannara</td><td>20</td><td>Engineering     </td><td>Phnom Penh      </td><td> 6</td></tr>\n",
       "\t<tr><td>Pel  </td><td>Dane     </td><td>22</td><td>Singer          </td><td>Phnom Penh      </td><td> 8</td></tr>\n",
       "\t<tr><td>Chea </td><td>Nataly   </td><td>22</td><td>Engineering     </td><td>Siem Reap       </td><td> 2</td></tr>\n",
       "\t<tr><td>Ly   </td><td>Chandara </td><td>20</td><td>Shop owner      </td><td>Phnom Penh      </td><td> 1</td></tr>\n",
       "\t<tr><td>Hann </td><td>Manich   </td><td>19</td><td>Teacher         </td><td>Kirirom         </td><td> 9</td></tr>\n",
       "\t<tr><td>Sun  </td><td>Chenny   </td><td>20</td><td>Business Advisor</td><td>Phnom Penh      </td><td> 5</td></tr>\n",
       "\t<tr><td>Ty   </td><td>Leapheng </td><td>21</td><td>Trip Advisor    </td><td>Kirirom         </td><td>10</td></tr>\n",
       "\t<tr><td>Daro </td><td>Dalya    </td><td>21</td><td>Shop owner      </td><td>Phnom Penh      </td><td> 4</td></tr>\n",
       "</tbody>\n",
       "</table>\n"
      ],
      "text/latex": [
       "A data.frame: 10 × 6\n",
       "\\begin{tabular}{llllll}\n",
       " First.Name & Second.Name & Age & Occupation & Place & Random.Number\\\\\n",
       " <chr> & <chr> & <dbl> & <chr> & <chr> & <int>\\\\\n",
       "\\hline\n",
       "\t Khean & Sreythou  & 20 & Engineering      & Kirirom          &  3\\\\\n",
       "\t Thon  & Lynan     & 21 & Teacher          & Banteay Meanchey &  7\\\\\n",
       "\t Pich  & Sovannara & 20 & Engineering      & Phnom Penh       &  6\\\\\n",
       "\t Pel   & Dane      & 22 & Singer           & Phnom Penh       &  8\\\\\n",
       "\t Chea  & Nataly    & 22 & Engineering      & Siem Reap        &  2\\\\\n",
       "\t Ly    & Chandara  & 20 & Shop owner       & Phnom Penh       &  1\\\\\n",
       "\t Hann  & Manich    & 19 & Teacher          & Kirirom          &  9\\\\\n",
       "\t Sun   & Chenny    & 20 & Business Advisor & Phnom Penh       &  5\\\\\n",
       "\t Ty    & Leapheng  & 21 & Trip Advisor     & Kirirom          & 10\\\\\n",
       "\t Daro  & Dalya     & 21 & Shop owner       & Phnom Penh       &  4\\\\\n",
       "\\end{tabular}\n"
      ],
      "text/markdown": [
       "\n",
       "A data.frame: 10 × 6\n",
       "\n",
       "| First.Name &lt;chr&gt; | Second.Name &lt;chr&gt; | Age &lt;dbl&gt; | Occupation &lt;chr&gt; | Place &lt;chr&gt; | Random.Number &lt;int&gt; |\n",
       "|---|---|---|---|---|---|\n",
       "| Khean | Sreythou  | 20 | Engineering      | Kirirom          |  3 |\n",
       "| Thon  | Lynan     | 21 | Teacher          | Banteay Meanchey |  7 |\n",
       "| Pich  | Sovannara | 20 | Engineering      | Phnom Penh       |  6 |\n",
       "| Pel   | Dane      | 22 | Singer           | Phnom Penh       |  8 |\n",
       "| Chea  | Nataly    | 22 | Engineering      | Siem Reap        |  2 |\n",
       "| Ly    | Chandara  | 20 | Shop owner       | Phnom Penh       |  1 |\n",
       "| Hann  | Manich    | 19 | Teacher          | Kirirom          |  9 |\n",
       "| Sun   | Chenny    | 20 | Business Advisor | Phnom Penh       |  5 |\n",
       "| Ty    | Leapheng  | 21 | Trip Advisor     | Kirirom          | 10 |\n",
       "| Daro  | Dalya     | 21 | Shop owner       | Phnom Penh       |  4 |\n",
       "\n"
      ],
      "text/plain": [
       "   First.Name Second.Name Age Occupation       Place            Random.Number\n",
       "1  Khean      Sreythou    20  Engineering      Kirirom           3           \n",
       "2  Thon       Lynan       21  Teacher          Banteay Meanchey  7           \n",
       "3  Pich       Sovannara   20  Engineering      Phnom Penh        6           \n",
       "4  Pel        Dane        22  Singer           Phnom Penh        8           \n",
       "5  Chea       Nataly      22  Engineering      Siem Reap         2           \n",
       "6  Ly         Chandara    20  Shop owner       Phnom Penh        1           \n",
       "7  Hann       Manich      19  Teacher          Kirirom           9           \n",
       "8  Sun        Chenny      20  Business Advisor Phnom Penh        5           \n",
       "9  Ty         Leapheng    21  Trip Advisor     Kirirom          10           \n",
       "10 Daro       Dalya       21  Shop owner       Phnom Penh        4           "
      ]
     },
     "metadata": {},
     "output_type": "display_data"
    }
   ],
   "source": [
    "# a. Create First name variable\n",
    "first_name = c(\"Khean\", \"Thon\", \"Pich\", \"Pel\", \"Chea\", \"Ly\", \"Hann\", \"Sun\", \"Ty\", \"Daro\")\n",
    "\n",
    "# b. Create Second name variable\n",
    "second_name = c(\"Sreythou\", \"Lynan\", \"Sovannara\", \"Dane\", \"Nataly\", \"Chandara\", \"Manich\", \"Chenny\", \"Leapheng\", \"Dalya\")\n",
    "\n",
    "# c. Create age variable\n",
    "age = c(20, 21, 20, 22, 22, 20, 19, 20, 21, 21)\n",
    "\n",
    "# d. Create occupation variable\n",
    "occupation = c(\"Engineering\", \"Teacher\", \"Engineering\", \"Singer\", \"Engineering\", \"Shop owner\", \"Teacher\", \"Business Advisor\", \"Trip Advisor\", \"Shop owner\")\n",
    "\n",
    "# e. Create place variable\n",
    "place = c(\"Kirirom\", \"Banteay Meanchey\", \"Phnom Penh\", \"Phnom Penh\", \"Siem Reap\", \"Phnom Penh\", \"Kirirom\", \"Phnom Penh\", \"Kirirom\", \"Phnom Penh\")\n",
    "\n",
    "# f. Create Random numbers (betwee 1 to 10) variable\n",
    "# Using sample()\n",
    "random = sample(1:10)\n",
    "\n",
    "# Put all variables into table \n",
    "# Using data.frame()\n",
    "\n",
    "data_table <- data.frame(`First Name` = first_name, `Second Name`=second_name, Age = age, Occupation = occupation, Place = place, `Random Number`=random)\n",
    "\n",
    "# Print table\n",
    "data_table"
   ]
  },
  {
   "cell_type": "code",
   "execution_count": 10,
   "id": "textile-inflation",
   "metadata": {},
   "outputs": [
    {
     "data": {
      "text/html": [
       "<style>\n",
       ".list-inline {list-style: none; margin:0; padding: 0}\n",
       ".list-inline>li {display: inline-block}\n",
       ".list-inline>li:not(:last-child)::after {content: \"\\00b7\"; padding: 0 .5ex}\n",
       "</style>\n",
       "<ol class=list-inline><li>3</li><li>7</li><li>6</li><li>8</li><li>2</li><li>1</li><li>9</li><li>5</li><li>10</li><li>4</li></ol>\n"
      ],
      "text/latex": [
       "\\begin{enumerate*}\n",
       "\\item 3\n",
       "\\item 7\n",
       "\\item 6\n",
       "\\item 8\n",
       "\\item 2\n",
       "\\item 1\n",
       "\\item 9\n",
       "\\item 5\n",
       "\\item 10\n",
       "\\item 4\n",
       "\\end{enumerate*}\n"
      ],
      "text/markdown": [
       "1. 3\n",
       "2. 7\n",
       "3. 6\n",
       "4. 8\n",
       "5. 2\n",
       "6. 1\n",
       "7. 9\n",
       "8. 5\n",
       "9. 10\n",
       "10. 4\n",
       "\n",
       "\n"
      ],
      "text/plain": [
       " [1]  3  7  6  8  2  1  9  5 10  4"
      ]
     },
     "metadata": {},
     "output_type": "display_data"
    },
    {
     "data": {
      "text/html": [
       "55"
      ],
      "text/latex": [
       "55"
      ],
      "text/markdown": [
       "55"
      ],
      "text/plain": [
       "[1] 55"
      ]
     },
     "metadata": {},
     "output_type": "display_data"
    },
    {
     "data": {
      "text/html": [
       "5.5"
      ],
      "text/latex": [
       "5.5"
      ],
      "text/markdown": [
       "5.5"
      ],
      "text/plain": [
       "[1] 5.5"
      ]
     },
     "metadata": {},
     "output_type": "display_data"
    },
    {
     "data": {
      "text/html": [
       "10"
      ],
      "text/latex": [
       "10"
      ],
      "text/markdown": [
       "10"
      ],
      "text/plain": [
       "[1] 10"
      ]
     },
     "metadata": {},
     "output_type": "display_data"
    }
   ],
   "source": [
    "# g. Extract the last column (f)\n",
    "random_col <- data_table$Random.Number\n",
    "random_col\n",
    "\n",
    "sum <- sum(random_col)\n",
    "sum\n",
    "\n",
    "mean <- mean(random_col)\n",
    "mean\n",
    "\n",
    "length <- length(random_col)\n",
    "length"
   ]
  },
  {
   "cell_type": "markdown",
   "id": "meaningful-occasions",
   "metadata": {},
   "source": [
    "### 3. Create a .txt file (Minimum : 150 words) with the latest news (In English) in cambodia from the official news agency’s website(Note: Include the reference link) and do the following (20 Marks)\n",
    "    a. Read the .txt file\n",
    "    b. Perform the Tokenization &amp; count the words\n",
    "    c. Identify the most repeated word and replace that word with “KIT”\n",
    "    d. Perform the Sentiment analysis\n",
    "    e. Plot the graph between “words count” and “words” using geom_col()\n",
    "        e.1. X-axis title =“Number of words”, Size=10, Bold, Text in Blue color, Center, space between graph and title = 20.\n",
    "        e.2. Y-axis title =“List of words”, Size=10, Bold, Text in Red color, Center, space between graph and title = 20.\n",
    "        e.3. Graph title =”Text Mining using R”,Size = 25, Bold, Center, Text in Yellow color, space between graph and title = 25.\n",
    "        \n",
    "##### Title: \"COVID-19: Cambodia relaxes restrictions, Singapore, Indonesia promotes vaccination plans\"\n",
    "##### Resource: https://www.khmertimeskh.com/50801787/covid-19-cambodia-relaxes-restrictions-singapore-indonesia-promotes-vaccination-plans/"
   ]
  },
  {
   "cell_type": "code",
   "execution_count": 22,
   "id": "recent-despite",
   "metadata": {},
   "outputs": [
    {
     "name": "stderr",
     "output_type": "stream",
     "text": [
      "\n",
      "Attaching package: 'dplyr'\n",
      "\n",
      "\n",
      "The following objects are masked from 'package:stats':\n",
      "\n",
      "    filter, lag\n",
      "\n",
      "\n",
      "The following objects are masked from 'package:base':\n",
      "\n",
      "    intersect, setdiff, setequal, union\n",
      "\n",
      "\n"
     ]
    },
    {
     "data": {
      "text/html": [
       "'In contrast to some regional countries, Cambodia has begun easing restrictions imposed for the past six weeks that followed a COVID-19 outbreak last November.\\nOn January 4, students wearing masks lined up for temperature checks and hand washing before being allowed to enter the Sovannaphumi primary school in the capital Phnom Penh.\\n\\nWhile private schools have started reopening this week, students at public schools are due to return next Monday.\\n\\nCambodia has also reopened the Tuol Sleng Genocide Museum, a famous tourist destination in Phnom Penh.\\n\\nIn November, Cambodia put in place a range of restrictions after an outbreak of community transmission linked with a 56-year-old woman who had travelled to the country’s two biggest cities since November 20.\\n\\nIn neighbouring Thailand, authorities warned on January 4 that the country could face a strict lockdown as infection numbers climbed, spurring it to declare 28 provinces high-risk zones.\\n\\nThe same day, Singapore said it will consider relaxing travel restrictions for people who have been vaccinated against COVID-19, including for those planning to visit the city-state for the World Economic Forum (WEF) in May.\\n\\nThe country has largely banned leisure travel because of the pandemic, and has limited business and official travel agreements with certain nations.\\n\\nLast week, it became one of the first countries in Asia to embark on a national inoculation programme.\\n\\nSingaporean Health Minister Gan Kim Yong said more vaccines are expected to arrive in Singapore in the next few months, including those by US firm Moderna and China’s Sinovac.\\n\\nHe said in the parliament that there will be enough COVID-19 vaccines for Singaporeans and long-term residents of Singapore by the third quarter of 2021 if all goes according to plan.\\n\\nThe country received its first shipments of the Pfizer-BioNTech COVID-19 vaccine in December.\\n\\nIn Indonesia, a mass vaccination programme is set to start next week as about 700,000 doses of vaccines have already been widely distributed.\\n\\nThe nation has secured more than 329 million doses of COVID-19 vaccines, most notably from Pfizer and its partner BioNTech, and AstraZeneca. However, those to be used in the first phase are CoronaVac, the vaccine produced by China’s Sinovac.\\n\\nBudi Gunadi Sadikin, Indonesia’s health minister, has said that the country needs to inoculate about 181 million people, or roughly 67 percent of its population. About 1.3 million health workers would be first in line for the shots, followed by public servants. VNA\\n'"
      ],
      "text/latex": [
       "'In contrast to some regional countries, Cambodia has begun easing restrictions imposed for the past six weeks that followed a COVID-19 outbreak last November.\\textbackslash{}nOn January 4, students wearing masks lined up for temperature checks and hand washing before being allowed to enter the Sovannaphumi primary school in the capital Phnom Penh.\\textbackslash{}n\\textbackslash{}nWhile private schools have started reopening this week, students at public schools are due to return next Monday.\\textbackslash{}n\\textbackslash{}nCambodia has also reopened the Tuol Sleng Genocide Museum, a famous tourist destination in Phnom Penh.\\textbackslash{}n\\textbackslash{}nIn November, Cambodia put in place a range of restrictions after an outbreak of community transmission linked with a 56-year-old woman who had travelled to the country’s two biggest cities since November 20.\\textbackslash{}n\\textbackslash{}nIn neighbouring Thailand, authorities warned on January 4 that the country could face a strict lockdown as infection numbers climbed, spurring it to declare 28 provinces high-risk zones.\\textbackslash{}n\\textbackslash{}nThe same day, Singapore said it will consider relaxing travel restrictions for people who have been vaccinated against COVID-19, including for those planning to visit the city-state for the World Economic Forum (WEF) in May.\\textbackslash{}n\\textbackslash{}nThe country has largely banned leisure travel because of the pandemic, and has limited business and official travel agreements with certain nations.\\textbackslash{}n\\textbackslash{}nLast week, it became one of the first countries in Asia to embark on a national inoculation programme.\\textbackslash{}n\\textbackslash{}nSingaporean Health Minister Gan Kim Yong said more vaccines are expected to arrive in Singapore in the next few months, including those by US firm Moderna and China’s Sinovac.\\textbackslash{}n\\textbackslash{}nHe said in the parliament that there will be enough COVID-19 vaccines for Singaporeans and long-term residents of Singapore by the third quarter of 2021 if all goes according to plan.\\textbackslash{}n\\textbackslash{}nThe country received its first shipments of the Pfizer-BioNTech COVID-19 vaccine in December.\\textbackslash{}n\\textbackslash{}nIn Indonesia, a mass vaccination programme is set to start next week as about 700,000 doses of vaccines have already been widely distributed.\\textbackslash{}n\\textbackslash{}nThe nation has secured more than 329 million doses of COVID-19 vaccines, most notably from Pfizer and its partner BioNTech, and AstraZeneca. However, those to be used in the first phase are CoronaVac, the vaccine produced by China’s Sinovac.\\textbackslash{}n\\textbackslash{}nBudi Gunadi Sadikin, Indonesia’s health minister, has said that the country needs to inoculate about 181 million people, or roughly 67 percent of its population. About 1.3 million health workers would be first in line for the shots, followed by public servants. VNA\\textbackslash{}n'"
      ],
      "text/markdown": [
       "'In contrast to some regional countries, Cambodia has begun easing restrictions imposed for the past six weeks that followed a COVID-19 outbreak last November.\\nOn January 4, students wearing masks lined up for temperature checks and hand washing before being allowed to enter the Sovannaphumi primary school in the capital Phnom Penh.\\n\\nWhile private schools have started reopening this week, students at public schools are due to return next Monday.\\n\\nCambodia has also reopened the Tuol Sleng Genocide Museum, a famous tourist destination in Phnom Penh.\\n\\nIn November, Cambodia put in place a range of restrictions after an outbreak of community transmission linked with a 56-year-old woman who had travelled to the country’s two biggest cities since November 20.\\n\\nIn neighbouring Thailand, authorities warned on January 4 that the country could face a strict lockdown as infection numbers climbed, spurring it to declare 28 provinces high-risk zones.\\n\\nThe same day, Singapore said it will consider relaxing travel restrictions for people who have been vaccinated against COVID-19, including for those planning to visit the city-state for the World Economic Forum (WEF) in May.\\n\\nThe country has largely banned leisure travel because of the pandemic, and has limited business and official travel agreements with certain nations.\\n\\nLast week, it became one of the first countries in Asia to embark on a national inoculation programme.\\n\\nSingaporean Health Minister Gan Kim Yong said more vaccines are expected to arrive in Singapore in the next few months, including those by US firm Moderna and China’s Sinovac.\\n\\nHe said in the parliament that there will be enough COVID-19 vaccines for Singaporeans and long-term residents of Singapore by the third quarter of 2021 if all goes according to plan.\\n\\nThe country received its first shipments of the Pfizer-BioNTech COVID-19 vaccine in December.\\n\\nIn Indonesia, a mass vaccination programme is set to start next week as about 700,000 doses of vaccines have already been widely distributed.\\n\\nThe nation has secured more than 329 million doses of COVID-19 vaccines, most notably from Pfizer and its partner BioNTech, and AstraZeneca. However, those to be used in the first phase are CoronaVac, the vaccine produced by China’s Sinovac.\\n\\nBudi Gunadi Sadikin, Indonesia’s health minister, has said that the country needs to inoculate about 181 million people, or roughly 67 percent of its population. About 1.3 million health workers would be first in line for the shots, followed by public servants. VNA\\n'"
      ],
      "text/plain": [
       "[1] \"In contrast to some regional countries, Cambodia has begun easing restrictions imposed for the past six weeks that followed a COVID-19 outbreak last November.\\nOn January 4, students wearing masks lined up for temperature checks and hand washing before being allowed to enter the Sovannaphumi primary school in the capital Phnom Penh.\\n\\nWhile private schools have started reopening this week, students at public schools are due to return next Monday.\\n\\nCambodia has also reopened the Tuol Sleng Genocide Museum, a famous tourist destination in Phnom Penh.\\n\\nIn November, Cambodia put in place a range of restrictions after an outbreak of community transmission linked with a 56-year-old woman who had travelled to the country’s two biggest cities since November 20.\\n\\nIn neighbouring Thailand, authorities warned on January 4 that the country could face a strict lockdown as infection numbers climbed, spurring it to declare 28 provinces high-risk zones.\\n\\nThe same day, Singapore said it will consider relaxing travel restrictions for people who have been vaccinated against COVID-19, including for those planning to visit the city-state for the World Economic Forum (WEF) in May.\\n\\nThe country has largely banned leisure travel because of the pandemic, and has limited business and official travel agreements with certain nations.\\n\\nLast week, it became one of the first countries in Asia to embark on a national inoculation programme.\\n\\nSingaporean Health Minister Gan Kim Yong said more vaccines are expected to arrive in Singapore in the next few months, including those by US firm Moderna and China’s Sinovac.\\n\\nHe said in the parliament that there will be enough COVID-19 vaccines for Singaporeans and long-term residents of Singapore by the third quarter of 2021 if all goes according to plan.\\n\\nThe country received its first shipments of the Pfizer-BioNTech COVID-19 vaccine in December.\\n\\nIn Indonesia, a mass vaccination programme is set to start next week as about 700,000 doses of vaccines have already been widely distributed.\\n\\nThe nation has secured more than 329 million doses of COVID-19 vaccines, most notably from Pfizer and its partner BioNTech, and AstraZeneca. However, those to be used in the first phase are CoronaVac, the vaccine produced by China’s Sinovac.\\n\\nBudi Gunadi Sadikin, Indonesia’s health minister, has said that the country needs to inoculate about 181 million people, or roughly 67 percent of its population. About 1.3 million health workers would be first in line for the shots, followed by public servants. VNA\\n\""
      ]
     },
     "metadata": {},
     "output_type": "display_data"
    }
   ],
   "source": [
    "# Import library\n",
    "library(readr)\n",
    "library(sentimentr)\n",
    "library(tidytext)\n",
    "library(dplyr)\n",
    "\n",
    "# a. Read the .txt file\n",
    "text <- read_file(\"covid19.txt\")\n",
    "text\n"
   ]
  },
  {
   "cell_type": "code",
   "execution_count": null,
   "id": "appreciated-moisture",
   "metadata": {},
   "outputs": [],
   "source": [
    "# b. Perform the Tokenization count the words\n",
    "data <- paste(text)\n",
    "tokens <- tokenize_words(data)\n",
    "count <- count_words(data)\n",
    "\n",
    "# Print tokens\n",
    "tokens\n",
    "\n",
    "# Print count\n",
    "count"
   ]
  },
  {
   "cell_type": "code",
   "execution_count": null,
   "id": "anticipated-barrel",
   "metadata": {},
   "outputs": [],
   "source": [
    "# c. Identify the most repeated word and replace that word with “KIT”\n",
    "\n",
    "repeat_words <- names(table(tokens))[as.vector(table(tokens)) == max(table(tokens))]\n",
    "# repeat_words_count <- max(table(tokens))\n",
    "\n",
    "# Replace the word with \"KIT\"\n",
    "new_data <- gsub(repeat_words, \"KIT\", tokens)\n",
    "\n",
    "# Print new_data\n",
    "new_data"
   ]
  },
  {
   "cell_type": "markdown",
   "id": "cleared-frame",
   "metadata": {},
   "source": [
    "### 4. Find the assigned Dataset from the list below and perform the following (20 Marks)\n",
    "    a. Import and Clean the dataset.\n",
    "    b. Find the x and y variables(axis) from the assigned dataset and give the reason for selecting the x and y axis.\n",
    "    c. Plot the graph using geom_col() and perform the linear model in statistics.\n",
    "    d. Perform the facet with the available columns(Choose the any two variables from the columns)\n",
    "    e. Use the theme layer to do the following (Note: Based on dataset, name the x and y axis and graph)\n",
    "        e.1. x-axis title =“________”, Size=10, Bold, Text in Green color, Center, space between graph and title = 20.\n",
    "        e.2. y-axis title =“________”, Size=10, Bold, Text in Yellow color, Center, space between graph and title = 20.\n",
    "        e.3. Graph title =”_________”,Size = 25, Bold, Center, Text in Blue color, space between graph and title = 25.\n",
    "        \n",
    "##### Data Set\n",
    "https://github.com/fivethirtyeight/data/blob/master/classic-rock/classic-rock-song-list.csv"
   ]
  },
  {
   "cell_type": "code",
   "execution_count": 11,
   "id": "duplicate-rover",
   "metadata": {},
   "outputs": [],
   "source": [
    "# Install library if library is not exist yet by uncomment code below\n",
    "# install.packages(\"ggplot2\")\n",
    "\n",
    "# Import library\n",
    "library(ggplot2)"
   ]
  },
  {
   "cell_type": "code",
   "execution_count": 12,
   "id": "central-cosmetic",
   "metadata": {},
   "outputs": [
    {
     "data": {
      "text/html": [
       "<table class=\"dataframe\">\n",
       "<caption>A data.frame: 2229 × 8</caption>\n",
       "<thead>\n",
       "\t<tr><th scope=col>Song.Clean</th><th scope=col>ARTIST.CLEAN</th><th scope=col>Release.Year</th><th scope=col>COMBINED</th><th scope=col>First.</th><th scope=col>Year.</th><th scope=col>PlayCount</th><th scope=col>F.G</th></tr>\n",
       "\t<tr><th scope=col>&lt;chr&gt;</th><th scope=col>&lt;chr&gt;</th><th scope=col>&lt;chr&gt;</th><th scope=col>&lt;chr&gt;</th><th scope=col>&lt;int&gt;</th><th scope=col>&lt;int&gt;</th><th scope=col>&lt;int&gt;</th><th scope=col>&lt;int&gt;</th></tr>\n",
       "</thead>\n",
       "<tbody>\n",
       "\t<tr><td>Caught Up in You                   </td><td>.38 Special  </td><td>1982</td><td>Caught Up in You by .38 Special             </td><td>1</td><td>1</td><td>82</td><td>82</td></tr>\n",
       "\t<tr><td>Fantasy Girl                       </td><td>.38 Special  </td><td>    </td><td>Fantasy Girl by .38 Special                 </td><td>1</td><td>0</td><td> 3</td><td> 0</td></tr>\n",
       "\t<tr><td>Hold On Loosely                    </td><td>.38 Special  </td><td>1981</td><td>Hold On Loosely by .38 Special              </td><td>1</td><td>1</td><td>85</td><td>85</td></tr>\n",
       "\t<tr><td>Rockin' Into the Night             </td><td>.38 Special  </td><td>1980</td><td>Rockin' Into the Night by .38 Special       </td><td>1</td><td>1</td><td>18</td><td>18</td></tr>\n",
       "\t<tr><td>Art For Arts Sake                  </td><td>10cc         </td><td>1975</td><td>Art For Arts Sake by 10cc                   </td><td>1</td><td>1</td><td> 1</td><td> 1</td></tr>\n",
       "\t<tr><td>Kryptonite                         </td><td>3 Doors Down </td><td>2000</td><td>Kryptonite by 3 Doors Down                  </td><td>1</td><td>1</td><td>13</td><td>13</td></tr>\n",
       "\t<tr><td>Loser                              </td><td>3 Doors Down </td><td>2000</td><td>Loser by 3 Doors Down                       </td><td>1</td><td>1</td><td> 1</td><td> 1</td></tr>\n",
       "\t<tr><td>When I'm Gone                      </td><td>3 Doors Down </td><td>2002</td><td>When I'm Gone by 3 Doors Down               </td><td>1</td><td>1</td><td> 6</td><td> 6</td></tr>\n",
       "\t<tr><td>What's Up?                         </td><td>4 Non Blondes</td><td>1992</td><td>What's Up? by 4 Non Blondes                 </td><td>1</td><td>1</td><td> 3</td><td> 3</td></tr>\n",
       "\t<tr><td>Take On Me                         </td><td>a-ha         </td><td>1985</td><td>Take On Me by a-ha                          </td><td>1</td><td>1</td><td> 1</td><td> 1</td></tr>\n",
       "\t<tr><td>Baby, Please Don't Go              </td><td>AC/DC        </td><td>    </td><td>Baby, Please Don't Go by AC/DC              </td><td>1</td><td>0</td><td> 1</td><td> 0</td></tr>\n",
       "\t<tr><td>Back In Black                      </td><td>AC/DC        </td><td>1980</td><td>Back In Black by AC/DC                      </td><td>1</td><td>1</td><td>97</td><td>97</td></tr>\n",
       "\t<tr><td>Big Gun                            </td><td>AC/DC        </td><td>1993</td><td>Big Gun by AC/DC                            </td><td>1</td><td>1</td><td> 6</td><td> 6</td></tr>\n",
       "\t<tr><td>CAN'T STOP ROCK'N'ROLL             </td><td>AC/DC        </td><td>    </td><td>CAN'T STOP ROCK'N'ROLL by AC/DC             </td><td>1</td><td>0</td><td> 5</td><td> 0</td></tr>\n",
       "\t<tr><td>Dirty Deeds Done Dirt Cheap        </td><td>AC/DC        </td><td>1976</td><td>Dirty Deeds Done Dirt Cheap by AC/DC        </td><td>1</td><td>1</td><td>85</td><td>85</td></tr>\n",
       "\t<tr><td>For Those About To Rock            </td><td>AC/DC        </td><td>1981</td><td>For Those About To Rock by AC/DC            </td><td>1</td><td>1</td><td>46</td><td>46</td></tr>\n",
       "\t<tr><td>Girls Got Rhythm                   </td><td>AC/DC        </td><td>    </td><td>Girls Got Rhythm by AC/DC                   </td><td>1</td><td>0</td><td>24</td><td> 0</td></tr>\n",
       "\t<tr><td>Hard As A Rock                     </td><td>AC/DC        </td><td>1995</td><td>Hard As A Rock by AC/DC                     </td><td>1</td><td>1</td><td> 1</td><td> 1</td></tr>\n",
       "\t<tr><td>Have a Drink On Me                 </td><td>AC/DC        </td><td>1980</td><td>Have a Drink On Me by AC/DC                 </td><td>1</td><td>1</td><td>39</td><td>39</td></tr>\n",
       "\t<tr><td>Hells Bells                        </td><td>AC/DC        </td><td>1980</td><td>Hells Bells by AC/DC                        </td><td>1</td><td>1</td><td>74</td><td>74</td></tr>\n",
       "\t<tr><td>Highway To Hell                    </td><td>AC/DC        </td><td>1979</td><td>Highway To Hell by AC/DC                    </td><td>1</td><td>1</td><td>92</td><td>92</td></tr>\n",
       "\t<tr><td>It's A Long Way To The Top         </td><td>AC/DC        </td><td>1975</td><td>It's A Long Way To The Top by AC/DC         </td><td>1</td><td>1</td><td>39</td><td>39</td></tr>\n",
       "\t<tr><td>Jailbreak                          </td><td>AC/DC        </td><td>1984</td><td>Jailbreak by AC/DC                          </td><td>1</td><td>1</td><td> 1</td><td> 1</td></tr>\n",
       "\t<tr><td>Let There Be Rock                  </td><td>AC/DC        </td><td>1977</td><td>Let There Be Rock by AC/DC                  </td><td>1</td><td>1</td><td> 3</td><td> 3</td></tr>\n",
       "\t<tr><td>Let's Get It Up                    </td><td>AC/DC        </td><td>    </td><td>Let's Get It Up by AC/DC                    </td><td>1</td><td>0</td><td> 4</td><td> 0</td></tr>\n",
       "\t<tr><td>Live Wire                          </td><td>AC/DC        </td><td>    </td><td>Live Wire by AC/DC                          </td><td>1</td><td>0</td><td> 2</td><td> 0</td></tr>\n",
       "\t<tr><td>Moneytalks                         </td><td>AC/DC        </td><td>    </td><td>Moneytalks by AC/DC                         </td><td>1</td><td>0</td><td>20</td><td> 0</td></tr>\n",
       "\t<tr><td>Night Prowler                      </td><td>AC/DC        </td><td>1979</td><td>Night Prowler by AC/DC                      </td><td>1</td><td>1</td><td> 1</td><td> 1</td></tr>\n",
       "\t<tr><td>Rock and Roll Ain't Noise Pollution</td><td>AC/DC        </td><td>1980</td><td>Rock and Roll Ain't Noise Pollution by AC/DC</td><td>1</td><td>1</td><td>21</td><td>21</td></tr>\n",
       "\t<tr><td>Shoot To Thrill                    </td><td>AC/DC        </td><td>    </td><td>Shoot To Thrill by AC/DC                    </td><td>1</td><td>0</td><td>45</td><td> 0</td></tr>\n",
       "\t<tr><td>...</td><td>...</td><td>...</td><td>...</td><td>...</td><td>...</td><td>...</td><td>...</td></tr>\n",
       "\t<tr><td>Owner of a Lonely Heart                    </td><td>Yes    </td><td>1983</td><td>Owner of a Lonely Heart by Yes                       </td><td>1</td><td>1</td><td> 81</td><td> 81</td></tr>\n",
       "\t<tr><td>Roundabout                                 </td><td>Yes    </td><td>1971</td><td>Roundabout by Yes                                    </td><td>1</td><td>1</td><td> 44</td><td> 44</td></tr>\n",
       "\t<tr><td>Starship Trooper                           </td><td>Yes    </td><td>1971</td><td>Starship Trooper by Yes                              </td><td>1</td><td>1</td><td>  1</td><td>  1</td></tr>\n",
       "\t<tr><td>Wonderous Stories                          </td><td>Yes    </td><td>    </td><td>Wonderous Stories by Yes                             </td><td>1</td><td>0</td><td>  5</td><td>  0</td></tr>\n",
       "\t<tr><td>Yours Is No Disgrace                       </td><td>Yes    </td><td>1971</td><td>Yours Is No Disgrace by Yes                          </td><td>1</td><td>1</td><td>  1</td><td>  1</td></tr>\n",
       "\t<tr><td>Tell Me What You Want                      </td><td>Zebra  </td><td>    </td><td>Tell Me What You Want by Zebra                       </td><td>1</td><td>0</td><td>  2</td><td>  0</td></tr>\n",
       "\t<tr><td>Who's Behind The Door                      </td><td>Zebra  </td><td>    </td><td>Who's Behind The Door by Zebra                       </td><td>1</td><td>0</td><td>  1</td><td>  0</td></tr>\n",
       "\t<tr><td>Time of the Season                         </td><td>Zombies</td><td>1968</td><td>Time of the Season by Zombies                        </td><td>1</td><td>1</td><td> 14</td><td> 14</td></tr>\n",
       "\t<tr><td>A Fool for Your Stockings                  </td><td>ZZ Top </td><td>    </td><td>A Fool for Your Stockings by ZZ Top                  </td><td>1</td><td>0</td><td>  1</td><td>  0</td></tr>\n",
       "\t<tr><td>Arrested For Driving While Blind           </td><td>ZZ Top </td><td>1976</td><td>Arrested For Driving While Blind by ZZ Top           </td><td>1</td><td>1</td><td>  1</td><td>  1</td></tr>\n",
       "\t<tr><td><span style=white-space:pre-wrap>Beer Drinkers &amp; Hell Raisers               </span></td><td>ZZ Top </td><td>1973</td><td><span style=white-space:pre-wrap>Beer Drinkers &amp; Hell Raisers by ZZ Top               </span></td><td>1</td><td>1</td><td><span style=white-space:pre-wrap>  8</span></td><td><span style=white-space:pre-wrap>  8</span></td></tr>\n",
       "\t<tr><td>Cheap Sunglasses                           </td><td>ZZ Top </td><td>1980</td><td>Cheap Sunglasses by ZZ Top                           </td><td>1</td><td>1</td><td> 34</td><td> 34</td></tr>\n",
       "\t<tr><td>Gimme All Your Lovin                       </td><td>ZZ Top </td><td>1983</td><td>Gimme All Your Lovin by ZZ Top                       </td><td>1</td><td>1</td><td> 86</td><td> 86</td></tr>\n",
       "\t<tr><td>Got Me Under Pressure                      </td><td>ZZ Top </td><td>1983</td><td>Got Me Under Pressure by ZZ Top                      </td><td>1</td><td>1</td><td> 29</td><td> 29</td></tr>\n",
       "\t<tr><td>Heard It On the X                          </td><td>ZZ Top </td><td>1975</td><td>Heard It On the X by ZZ Top                          </td><td>1</td><td>1</td><td>  2</td><td>  2</td></tr>\n",
       "\t<tr><td>I Thank You                                </td><td>ZZ Top </td><td>    </td><td>I Thank You by ZZ Top                                </td><td>1</td><td>0</td><td> 16</td><td>  0</td></tr>\n",
       "\t<tr><td>I'm Bad, I'm Nationwide                    </td><td>ZZ Top </td><td>    </td><td>I'm Bad, I'm Nationwide by ZZ Top                    </td><td>1</td><td>0</td><td> 10</td><td>  0</td></tr>\n",
       "\t<tr><td>Jesus Just Left Chicago                    </td><td>ZZ Top </td><td>1973</td><td>Jesus Just Left Chicago by ZZ Top                    </td><td>1</td><td>1</td><td>  6</td><td>  6</td></tr>\n",
       "\t<tr><td>Just Got Paid                              </td><td>ZZ Top </td><td>    </td><td>Just Got Paid by ZZ Top                              </td><td>1</td><td>0</td><td>  2</td><td>  0</td></tr>\n",
       "\t<tr><td>La Grange                                  </td><td>ZZ Top </td><td>1973</td><td>La Grange by ZZ Top                                  </td><td>1</td><td>1</td><td>111</td><td>111</td></tr>\n",
       "\t<tr><td>Legs                                       </td><td>ZZ Top </td><td>1983</td><td>Legs by ZZ Top                                       </td><td>1</td><td>1</td><td>121</td><td>121</td></tr>\n",
       "\t<tr><td>My Head's In Mississippi                   </td><td>ZZ Top </td><td>    </td><td>My Head's In Mississippi by ZZ Top                   </td><td>1</td><td>0</td><td>  1</td><td>  0</td></tr>\n",
       "\t<tr><td>Party On The Patio                         </td><td>ZZ Top </td><td>    </td><td>Party On The Patio by ZZ Top                         </td><td>1</td><td>0</td><td> 14</td><td>  0</td></tr>\n",
       "\t<tr><td>Pearl Necklace                             </td><td>ZZ Top </td><td>1981</td><td>Pearl Necklace by ZZ Top                             </td><td>1</td><td>1</td><td>  5</td><td>  5</td></tr>\n",
       "\t<tr><td>Sharp Dressed Man                          </td><td>ZZ Top </td><td>1983</td><td>Sharp Dressed Man by ZZ Top                          </td><td>1</td><td>1</td><td>120</td><td>120</td></tr>\n",
       "\t<tr><td>She Loves My Automobile                    </td><td>ZZ Top </td><td>    </td><td>She Loves My Automobile by ZZ Top                    </td><td>1</td><td>0</td><td>  1</td><td>  0</td></tr>\n",
       "\t<tr><td>Tube Snake Boogie                          </td><td>ZZ Top </td><td>1981</td><td>Tube Snake Boogie by ZZ Top                          </td><td>1</td><td>1</td><td> 32</td><td> 32</td></tr>\n",
       "\t<tr><td>Tush                                       </td><td>ZZ Top </td><td>1975</td><td>Tush by ZZ Top                                       </td><td>1</td><td>1</td><td>109</td><td>109</td></tr>\n",
       "\t<tr><td>TV Dinners                                 </td><td>ZZ Top </td><td>1983</td><td>TV Dinners by ZZ Top                                 </td><td>1</td><td>1</td><td>  1</td><td>  1</td></tr>\n",
       "\t<tr><td>WAITIN' FOR THE BUS/JESUS JUST LEFT CHICAGO</td><td>ZZ Top </td><td>1973</td><td>WAITIN' FOR THE BUS/JESUS JUST LEFT CHICAGO by ZZ Top</td><td>1</td><td>1</td><td>  2</td><td>  2</td></tr>\n",
       "</tbody>\n",
       "</table>\n"
      ],
      "text/latex": [
       "A data.frame: 2229 × 8\n",
       "\\begin{tabular}{llllllll}\n",
       " Song.Clean & ARTIST.CLEAN & Release.Year & COMBINED & First. & Year. & PlayCount & F.G\\\\\n",
       " <chr> & <chr> & <chr> & <chr> & <int> & <int> & <int> & <int>\\\\\n",
       "\\hline\n",
       "\t Caught Up in You                    & .38 Special   & 1982 & Caught Up in You by .38 Special              & 1 & 1 & 82 & 82\\\\\n",
       "\t Fantasy Girl                        & .38 Special   &      & Fantasy Girl by .38 Special                  & 1 & 0 &  3 &  0\\\\\n",
       "\t Hold On Loosely                     & .38 Special   & 1981 & Hold On Loosely by .38 Special               & 1 & 1 & 85 & 85\\\\\n",
       "\t Rockin' Into the Night              & .38 Special   & 1980 & Rockin' Into the Night by .38 Special        & 1 & 1 & 18 & 18\\\\\n",
       "\t Art For Arts Sake                   & 10cc          & 1975 & Art For Arts Sake by 10cc                    & 1 & 1 &  1 &  1\\\\\n",
       "\t Kryptonite                          & 3 Doors Down  & 2000 & Kryptonite by 3 Doors Down                   & 1 & 1 & 13 & 13\\\\\n",
       "\t Loser                               & 3 Doors Down  & 2000 & Loser by 3 Doors Down                        & 1 & 1 &  1 &  1\\\\\n",
       "\t When I'm Gone                       & 3 Doors Down  & 2002 & When I'm Gone by 3 Doors Down                & 1 & 1 &  6 &  6\\\\\n",
       "\t What's Up?                          & 4 Non Blondes & 1992 & What's Up? by 4 Non Blondes                  & 1 & 1 &  3 &  3\\\\\n",
       "\t Take On Me                          & a-ha          & 1985 & Take On Me by a-ha                           & 1 & 1 &  1 &  1\\\\\n",
       "\t Baby, Please Don't Go               & AC/DC         &      & Baby, Please Don't Go by AC/DC               & 1 & 0 &  1 &  0\\\\\n",
       "\t Back In Black                       & AC/DC         & 1980 & Back In Black by AC/DC                       & 1 & 1 & 97 & 97\\\\\n",
       "\t Big Gun                             & AC/DC         & 1993 & Big Gun by AC/DC                             & 1 & 1 &  6 &  6\\\\\n",
       "\t CAN'T STOP ROCK'N'ROLL              & AC/DC         &      & CAN'T STOP ROCK'N'ROLL by AC/DC              & 1 & 0 &  5 &  0\\\\\n",
       "\t Dirty Deeds Done Dirt Cheap         & AC/DC         & 1976 & Dirty Deeds Done Dirt Cheap by AC/DC         & 1 & 1 & 85 & 85\\\\\n",
       "\t For Those About To Rock             & AC/DC         & 1981 & For Those About To Rock by AC/DC             & 1 & 1 & 46 & 46\\\\\n",
       "\t Girls Got Rhythm                    & AC/DC         &      & Girls Got Rhythm by AC/DC                    & 1 & 0 & 24 &  0\\\\\n",
       "\t Hard As A Rock                      & AC/DC         & 1995 & Hard As A Rock by AC/DC                      & 1 & 1 &  1 &  1\\\\\n",
       "\t Have a Drink On Me                  & AC/DC         & 1980 & Have a Drink On Me by AC/DC                  & 1 & 1 & 39 & 39\\\\\n",
       "\t Hells Bells                         & AC/DC         & 1980 & Hells Bells by AC/DC                         & 1 & 1 & 74 & 74\\\\\n",
       "\t Highway To Hell                     & AC/DC         & 1979 & Highway To Hell by AC/DC                     & 1 & 1 & 92 & 92\\\\\n",
       "\t It's A Long Way To The Top          & AC/DC         & 1975 & It's A Long Way To The Top by AC/DC          & 1 & 1 & 39 & 39\\\\\n",
       "\t Jailbreak                           & AC/DC         & 1984 & Jailbreak by AC/DC                           & 1 & 1 &  1 &  1\\\\\n",
       "\t Let There Be Rock                   & AC/DC         & 1977 & Let There Be Rock by AC/DC                   & 1 & 1 &  3 &  3\\\\\n",
       "\t Let's Get It Up                     & AC/DC         &      & Let's Get It Up by AC/DC                     & 1 & 0 &  4 &  0\\\\\n",
       "\t Live Wire                           & AC/DC         &      & Live Wire by AC/DC                           & 1 & 0 &  2 &  0\\\\\n",
       "\t Moneytalks                          & AC/DC         &      & Moneytalks by AC/DC                          & 1 & 0 & 20 &  0\\\\\n",
       "\t Night Prowler                       & AC/DC         & 1979 & Night Prowler by AC/DC                       & 1 & 1 &  1 &  1\\\\\n",
       "\t Rock and Roll Ain't Noise Pollution & AC/DC         & 1980 & Rock and Roll Ain't Noise Pollution by AC/DC & 1 & 1 & 21 & 21\\\\\n",
       "\t Shoot To Thrill                     & AC/DC         &      & Shoot To Thrill by AC/DC                     & 1 & 0 & 45 &  0\\\\\n",
       "\t ... & ... & ... & ... & ... & ... & ... & ...\\\\\n",
       "\t Owner of a Lonely Heart                     & Yes     & 1983 & Owner of a Lonely Heart by Yes                        & 1 & 1 &  81 &  81\\\\\n",
       "\t Roundabout                                  & Yes     & 1971 & Roundabout by Yes                                     & 1 & 1 &  44 &  44\\\\\n",
       "\t Starship Trooper                            & Yes     & 1971 & Starship Trooper by Yes                               & 1 & 1 &   1 &   1\\\\\n",
       "\t Wonderous Stories                           & Yes     &      & Wonderous Stories by Yes                              & 1 & 0 &   5 &   0\\\\\n",
       "\t Yours Is No Disgrace                        & Yes     & 1971 & Yours Is No Disgrace by Yes                           & 1 & 1 &   1 &   1\\\\\n",
       "\t Tell Me What You Want                       & Zebra   &      & Tell Me What You Want by Zebra                        & 1 & 0 &   2 &   0\\\\\n",
       "\t Who's Behind The Door                       & Zebra   &      & Who's Behind The Door by Zebra                        & 1 & 0 &   1 &   0\\\\\n",
       "\t Time of the Season                          & Zombies & 1968 & Time of the Season by Zombies                         & 1 & 1 &  14 &  14\\\\\n",
       "\t A Fool for Your Stockings                   & ZZ Top  &      & A Fool for Your Stockings by ZZ Top                   & 1 & 0 &   1 &   0\\\\\n",
       "\t Arrested For Driving While Blind            & ZZ Top  & 1976 & Arrested For Driving While Blind by ZZ Top            & 1 & 1 &   1 &   1\\\\\n",
       "\t Beer Drinkers \\& Hell Raisers                & ZZ Top  & 1973 & Beer Drinkers \\& Hell Raisers by ZZ Top                & 1 & 1 &   8 &   8\\\\\n",
       "\t Cheap Sunglasses                            & ZZ Top  & 1980 & Cheap Sunglasses by ZZ Top                            & 1 & 1 &  34 &  34\\\\\n",
       "\t Gimme All Your Lovin                        & ZZ Top  & 1983 & Gimme All Your Lovin by ZZ Top                        & 1 & 1 &  86 &  86\\\\\n",
       "\t Got Me Under Pressure                       & ZZ Top  & 1983 & Got Me Under Pressure by ZZ Top                       & 1 & 1 &  29 &  29\\\\\n",
       "\t Heard It On the X                           & ZZ Top  & 1975 & Heard It On the X by ZZ Top                           & 1 & 1 &   2 &   2\\\\\n",
       "\t I Thank You                                 & ZZ Top  &      & I Thank You by ZZ Top                                 & 1 & 0 &  16 &   0\\\\\n",
       "\t I'm Bad, I'm Nationwide                     & ZZ Top  &      & I'm Bad, I'm Nationwide by ZZ Top                     & 1 & 0 &  10 &   0\\\\\n",
       "\t Jesus Just Left Chicago                     & ZZ Top  & 1973 & Jesus Just Left Chicago by ZZ Top                     & 1 & 1 &   6 &   6\\\\\n",
       "\t Just Got Paid                               & ZZ Top  &      & Just Got Paid by ZZ Top                               & 1 & 0 &   2 &   0\\\\\n",
       "\t La Grange                                   & ZZ Top  & 1973 & La Grange by ZZ Top                                   & 1 & 1 & 111 & 111\\\\\n",
       "\t Legs                                        & ZZ Top  & 1983 & Legs by ZZ Top                                        & 1 & 1 & 121 & 121\\\\\n",
       "\t My Head's In Mississippi                    & ZZ Top  &      & My Head's In Mississippi by ZZ Top                    & 1 & 0 &   1 &   0\\\\\n",
       "\t Party On The Patio                          & ZZ Top  &      & Party On The Patio by ZZ Top                          & 1 & 0 &  14 &   0\\\\\n",
       "\t Pearl Necklace                              & ZZ Top  & 1981 & Pearl Necklace by ZZ Top                              & 1 & 1 &   5 &   5\\\\\n",
       "\t Sharp Dressed Man                           & ZZ Top  & 1983 & Sharp Dressed Man by ZZ Top                           & 1 & 1 & 120 & 120\\\\\n",
       "\t She Loves My Automobile                     & ZZ Top  &      & She Loves My Automobile by ZZ Top                     & 1 & 0 &   1 &   0\\\\\n",
       "\t Tube Snake Boogie                           & ZZ Top  & 1981 & Tube Snake Boogie by ZZ Top                           & 1 & 1 &  32 &  32\\\\\n",
       "\t Tush                                        & ZZ Top  & 1975 & Tush by ZZ Top                                        & 1 & 1 & 109 & 109\\\\\n",
       "\t TV Dinners                                  & ZZ Top  & 1983 & TV Dinners by ZZ Top                                  & 1 & 1 &   1 &   1\\\\\n",
       "\t WAITIN' FOR THE BUS/JESUS JUST LEFT CHICAGO & ZZ Top  & 1973 & WAITIN' FOR THE BUS/JESUS JUST LEFT CHICAGO by ZZ Top & 1 & 1 &   2 &   2\\\\\n",
       "\\end{tabular}\n"
      ],
      "text/markdown": [
       "\n",
       "A data.frame: 2229 × 8\n",
       "\n",
       "| Song.Clean &lt;chr&gt; | ARTIST.CLEAN &lt;chr&gt; | Release.Year &lt;chr&gt; | COMBINED &lt;chr&gt; | First. &lt;int&gt; | Year. &lt;int&gt; | PlayCount &lt;int&gt; | F.G &lt;int&gt; |\n",
       "|---|---|---|---|---|---|---|---|\n",
       "| Caught Up in You                    | .38 Special   | 1982 | Caught Up in You by .38 Special              | 1 | 1 | 82 | 82 |\n",
       "| Fantasy Girl                        | .38 Special   | <!----> | Fantasy Girl by .38 Special                  | 1 | 0 |  3 |  0 |\n",
       "| Hold On Loosely                     | .38 Special   | 1981 | Hold On Loosely by .38 Special               | 1 | 1 | 85 | 85 |\n",
       "| Rockin' Into the Night              | .38 Special   | 1980 | Rockin' Into the Night by .38 Special        | 1 | 1 | 18 | 18 |\n",
       "| Art For Arts Sake                   | 10cc          | 1975 | Art For Arts Sake by 10cc                    | 1 | 1 |  1 |  1 |\n",
       "| Kryptonite                          | 3 Doors Down  | 2000 | Kryptonite by 3 Doors Down                   | 1 | 1 | 13 | 13 |\n",
       "| Loser                               | 3 Doors Down  | 2000 | Loser by 3 Doors Down                        | 1 | 1 |  1 |  1 |\n",
       "| When I'm Gone                       | 3 Doors Down  | 2002 | When I'm Gone by 3 Doors Down                | 1 | 1 |  6 |  6 |\n",
       "| What's Up?                          | 4 Non Blondes | 1992 | What's Up? by 4 Non Blondes                  | 1 | 1 |  3 |  3 |\n",
       "| Take On Me                          | a-ha          | 1985 | Take On Me by a-ha                           | 1 | 1 |  1 |  1 |\n",
       "| Baby, Please Don't Go               | AC/DC         | <!----> | Baby, Please Don't Go by AC/DC               | 1 | 0 |  1 |  0 |\n",
       "| Back In Black                       | AC/DC         | 1980 | Back In Black by AC/DC                       | 1 | 1 | 97 | 97 |\n",
       "| Big Gun                             | AC/DC         | 1993 | Big Gun by AC/DC                             | 1 | 1 |  6 |  6 |\n",
       "| CAN'T STOP ROCK'N'ROLL              | AC/DC         | <!----> | CAN'T STOP ROCK'N'ROLL by AC/DC              | 1 | 0 |  5 |  0 |\n",
       "| Dirty Deeds Done Dirt Cheap         | AC/DC         | 1976 | Dirty Deeds Done Dirt Cheap by AC/DC         | 1 | 1 | 85 | 85 |\n",
       "| For Those About To Rock             | AC/DC         | 1981 | For Those About To Rock by AC/DC             | 1 | 1 | 46 | 46 |\n",
       "| Girls Got Rhythm                    | AC/DC         | <!----> | Girls Got Rhythm by AC/DC                    | 1 | 0 | 24 |  0 |\n",
       "| Hard As A Rock                      | AC/DC         | 1995 | Hard As A Rock by AC/DC                      | 1 | 1 |  1 |  1 |\n",
       "| Have a Drink On Me                  | AC/DC         | 1980 | Have a Drink On Me by AC/DC                  | 1 | 1 | 39 | 39 |\n",
       "| Hells Bells                         | AC/DC         | 1980 | Hells Bells by AC/DC                         | 1 | 1 | 74 | 74 |\n",
       "| Highway To Hell                     | AC/DC         | 1979 | Highway To Hell by AC/DC                     | 1 | 1 | 92 | 92 |\n",
       "| It's A Long Way To The Top          | AC/DC         | 1975 | It's A Long Way To The Top by AC/DC          | 1 | 1 | 39 | 39 |\n",
       "| Jailbreak                           | AC/DC         | 1984 | Jailbreak by AC/DC                           | 1 | 1 |  1 |  1 |\n",
       "| Let There Be Rock                   | AC/DC         | 1977 | Let There Be Rock by AC/DC                   | 1 | 1 |  3 |  3 |\n",
       "| Let's Get It Up                     | AC/DC         | <!----> | Let's Get It Up by AC/DC                     | 1 | 0 |  4 |  0 |\n",
       "| Live Wire                           | AC/DC         | <!----> | Live Wire by AC/DC                           | 1 | 0 |  2 |  0 |\n",
       "| Moneytalks                          | AC/DC         | <!----> | Moneytalks by AC/DC                          | 1 | 0 | 20 |  0 |\n",
       "| Night Prowler                       | AC/DC         | 1979 | Night Prowler by AC/DC                       | 1 | 1 |  1 |  1 |\n",
       "| Rock and Roll Ain't Noise Pollution | AC/DC         | 1980 | Rock and Roll Ain't Noise Pollution by AC/DC | 1 | 1 | 21 | 21 |\n",
       "| Shoot To Thrill                     | AC/DC         | <!----> | Shoot To Thrill by AC/DC                     | 1 | 0 | 45 |  0 |\n",
       "| ... | ... | ... | ... | ... | ... | ... | ... |\n",
       "| Owner of a Lonely Heart                     | Yes     | 1983 | Owner of a Lonely Heart by Yes                        | 1 | 1 |  81 |  81 |\n",
       "| Roundabout                                  | Yes     | 1971 | Roundabout by Yes                                     | 1 | 1 |  44 |  44 |\n",
       "| Starship Trooper                            | Yes     | 1971 | Starship Trooper by Yes                               | 1 | 1 |   1 |   1 |\n",
       "| Wonderous Stories                           | Yes     | <!----> | Wonderous Stories by Yes                              | 1 | 0 |   5 |   0 |\n",
       "| Yours Is No Disgrace                        | Yes     | 1971 | Yours Is No Disgrace by Yes                           | 1 | 1 |   1 |   1 |\n",
       "| Tell Me What You Want                       | Zebra   | <!----> | Tell Me What You Want by Zebra                        | 1 | 0 |   2 |   0 |\n",
       "| Who's Behind The Door                       | Zebra   | <!----> | Who's Behind The Door by Zebra                        | 1 | 0 |   1 |   0 |\n",
       "| Time of the Season                          | Zombies | 1968 | Time of the Season by Zombies                         | 1 | 1 |  14 |  14 |\n",
       "| A Fool for Your Stockings                   | ZZ Top  | <!----> | A Fool for Your Stockings by ZZ Top                   | 1 | 0 |   1 |   0 |\n",
       "| Arrested For Driving While Blind            | ZZ Top  | 1976 | Arrested For Driving While Blind by ZZ Top            | 1 | 1 |   1 |   1 |\n",
       "| Beer Drinkers &amp; Hell Raisers                | ZZ Top  | 1973 | Beer Drinkers &amp; Hell Raisers by ZZ Top                | 1 | 1 |   8 |   8 |\n",
       "| Cheap Sunglasses                            | ZZ Top  | 1980 | Cheap Sunglasses by ZZ Top                            | 1 | 1 |  34 |  34 |\n",
       "| Gimme All Your Lovin                        | ZZ Top  | 1983 | Gimme All Your Lovin by ZZ Top                        | 1 | 1 |  86 |  86 |\n",
       "| Got Me Under Pressure                       | ZZ Top  | 1983 | Got Me Under Pressure by ZZ Top                       | 1 | 1 |  29 |  29 |\n",
       "| Heard It On the X                           | ZZ Top  | 1975 | Heard It On the X by ZZ Top                           | 1 | 1 |   2 |   2 |\n",
       "| I Thank You                                 | ZZ Top  | <!----> | I Thank You by ZZ Top                                 | 1 | 0 |  16 |   0 |\n",
       "| I'm Bad, I'm Nationwide                     | ZZ Top  | <!----> | I'm Bad, I'm Nationwide by ZZ Top                     | 1 | 0 |  10 |   0 |\n",
       "| Jesus Just Left Chicago                     | ZZ Top  | 1973 | Jesus Just Left Chicago by ZZ Top                     | 1 | 1 |   6 |   6 |\n",
       "| Just Got Paid                               | ZZ Top  | <!----> | Just Got Paid by ZZ Top                               | 1 | 0 |   2 |   0 |\n",
       "| La Grange                                   | ZZ Top  | 1973 | La Grange by ZZ Top                                   | 1 | 1 | 111 | 111 |\n",
       "| Legs                                        | ZZ Top  | 1983 | Legs by ZZ Top                                        | 1 | 1 | 121 | 121 |\n",
       "| My Head's In Mississippi                    | ZZ Top  | <!----> | My Head's In Mississippi by ZZ Top                    | 1 | 0 |   1 |   0 |\n",
       "| Party On The Patio                          | ZZ Top  | <!----> | Party On The Patio by ZZ Top                          | 1 | 0 |  14 |   0 |\n",
       "| Pearl Necklace                              | ZZ Top  | 1981 | Pearl Necklace by ZZ Top                              | 1 | 1 |   5 |   5 |\n",
       "| Sharp Dressed Man                           | ZZ Top  | 1983 | Sharp Dressed Man by ZZ Top                           | 1 | 1 | 120 | 120 |\n",
       "| She Loves My Automobile                     | ZZ Top  | <!----> | She Loves My Automobile by ZZ Top                     | 1 | 0 |   1 |   0 |\n",
       "| Tube Snake Boogie                           | ZZ Top  | 1981 | Tube Snake Boogie by ZZ Top                           | 1 | 1 |  32 |  32 |\n",
       "| Tush                                        | ZZ Top  | 1975 | Tush by ZZ Top                                        | 1 | 1 | 109 | 109 |\n",
       "| TV Dinners                                  | ZZ Top  | 1983 | TV Dinners by ZZ Top                                  | 1 | 1 |   1 |   1 |\n",
       "| WAITIN' FOR THE BUS/JESUS JUST LEFT CHICAGO | ZZ Top  | 1973 | WAITIN' FOR THE BUS/JESUS JUST LEFT CHICAGO by ZZ Top | 1 | 1 |   2 |   2 |\n",
       "\n"
      ],
      "text/plain": [
       "     Song.Clean                                  ARTIST.CLEAN  Release.Year\n",
       "1    Caught Up in You                            .38 Special   1982        \n",
       "2    Fantasy Girl                                .38 Special               \n",
       "3    Hold On Loosely                             .38 Special   1981        \n",
       "4    Rockin' Into the Night                      .38 Special   1980        \n",
       "5    Art For Arts Sake                           10cc          1975        \n",
       "6    Kryptonite                                  3 Doors Down  2000        \n",
       "7    Loser                                       3 Doors Down  2000        \n",
       "8    When I'm Gone                               3 Doors Down  2002        \n",
       "9    What's Up?                                  4 Non Blondes 1992        \n",
       "10   Take On Me                                  a-ha          1985        \n",
       "11   Baby, Please Don't Go                       AC/DC                     \n",
       "12   Back In Black                               AC/DC         1980        \n",
       "13   Big Gun                                     AC/DC         1993        \n",
       "14   CAN'T STOP ROCK'N'ROLL                      AC/DC                     \n",
       "15   Dirty Deeds Done Dirt Cheap                 AC/DC         1976        \n",
       "16   For Those About To Rock                     AC/DC         1981        \n",
       "17   Girls Got Rhythm                            AC/DC                     \n",
       "18   Hard As A Rock                              AC/DC         1995        \n",
       "19   Have a Drink On Me                          AC/DC         1980        \n",
       "20   Hells Bells                                 AC/DC         1980        \n",
       "21   Highway To Hell                             AC/DC         1979        \n",
       "22   It's A Long Way To The Top                  AC/DC         1975        \n",
       "23   Jailbreak                                   AC/DC         1984        \n",
       "24   Let There Be Rock                           AC/DC         1977        \n",
       "25   Let's Get It Up                             AC/DC                     \n",
       "26   Live Wire                                   AC/DC                     \n",
       "27   Moneytalks                                  AC/DC                     \n",
       "28   Night Prowler                               AC/DC         1979        \n",
       "29   Rock and Roll Ain't Noise Pollution         AC/DC         1980        \n",
       "30   Shoot To Thrill                             AC/DC                     \n",
       "...  ...                                         ...           ...         \n",
       "2200 Owner of a Lonely Heart                     Yes           1983        \n",
       "2201 Roundabout                                  Yes           1971        \n",
       "2202 Starship Trooper                            Yes           1971        \n",
       "2203 Wonderous Stories                           Yes                       \n",
       "2204 Yours Is No Disgrace                        Yes           1971        \n",
       "2205 Tell Me What You Want                       Zebra                     \n",
       "2206 Who's Behind The Door                       Zebra                     \n",
       "2207 Time of the Season                          Zombies       1968        \n",
       "2208 A Fool for Your Stockings                   ZZ Top                    \n",
       "2209 Arrested For Driving While Blind            ZZ Top        1976        \n",
       "2210 Beer Drinkers & Hell Raisers                ZZ Top        1973        \n",
       "2211 Cheap Sunglasses                            ZZ Top        1980        \n",
       "2212 Gimme All Your Lovin                        ZZ Top        1983        \n",
       "2213 Got Me Under Pressure                       ZZ Top        1983        \n",
       "2214 Heard It On the X                           ZZ Top        1975        \n",
       "2215 I Thank You                                 ZZ Top                    \n",
       "2216 I'm Bad, I'm Nationwide                     ZZ Top                    \n",
       "2217 Jesus Just Left Chicago                     ZZ Top        1973        \n",
       "2218 Just Got Paid                               ZZ Top                    \n",
       "2219 La Grange                                   ZZ Top        1973        \n",
       "2220 Legs                                        ZZ Top        1983        \n",
       "2221 My Head's In Mississippi                    ZZ Top                    \n",
       "2222 Party On The Patio                          ZZ Top                    \n",
       "2223 Pearl Necklace                              ZZ Top        1981        \n",
       "2224 Sharp Dressed Man                           ZZ Top        1983        \n",
       "2225 She Loves My Automobile                     ZZ Top                    \n",
       "2226 Tube Snake Boogie                           ZZ Top        1981        \n",
       "2227 Tush                                        ZZ Top        1975        \n",
       "2228 TV Dinners                                  ZZ Top        1983        \n",
       "2229 WAITIN' FOR THE BUS/JESUS JUST LEFT CHICAGO ZZ Top        1973        \n",
       "     COMBINED                                              First. Year.\n",
       "1    Caught Up in You by .38 Special                       1      1    \n",
       "2    Fantasy Girl by .38 Special                           1      0    \n",
       "3    Hold On Loosely by .38 Special                        1      1    \n",
       "4    Rockin' Into the Night by .38 Special                 1      1    \n",
       "5    Art For Arts Sake by 10cc                             1      1    \n",
       "6    Kryptonite by 3 Doors Down                            1      1    \n",
       "7    Loser by 3 Doors Down                                 1      1    \n",
       "8    When I'm Gone by 3 Doors Down                         1      1    \n",
       "9    What's Up? by 4 Non Blondes                           1      1    \n",
       "10   Take On Me by a-ha                                    1      1    \n",
       "11   Baby, Please Don't Go by AC/DC                        1      0    \n",
       "12   Back In Black by AC/DC                                1      1    \n",
       "13   Big Gun by AC/DC                                      1      1    \n",
       "14   CAN'T STOP ROCK'N'ROLL by AC/DC                       1      0    \n",
       "15   Dirty Deeds Done Dirt Cheap by AC/DC                  1      1    \n",
       "16   For Those About To Rock by AC/DC                      1      1    \n",
       "17   Girls Got Rhythm by AC/DC                             1      0    \n",
       "18   Hard As A Rock by AC/DC                               1      1    \n",
       "19   Have a Drink On Me by AC/DC                           1      1    \n",
       "20   Hells Bells by AC/DC                                  1      1    \n",
       "21   Highway To Hell by AC/DC                              1      1    \n",
       "22   It's A Long Way To The Top by AC/DC                   1      1    \n",
       "23   Jailbreak by AC/DC                                    1      1    \n",
       "24   Let There Be Rock by AC/DC                            1      1    \n",
       "25   Let's Get It Up by AC/DC                              1      0    \n",
       "26   Live Wire by AC/DC                                    1      0    \n",
       "27   Moneytalks by AC/DC                                   1      0    \n",
       "28   Night Prowler by AC/DC                                1      1    \n",
       "29   Rock and Roll Ain't Noise Pollution by AC/DC          1      1    \n",
       "30   Shoot To Thrill by AC/DC                              1      0    \n",
       "...  ...                                                   ...    ...  \n",
       "2200 Owner of a Lonely Heart by Yes                        1      1    \n",
       "2201 Roundabout by Yes                                     1      1    \n",
       "2202 Starship Trooper by Yes                               1      1    \n",
       "2203 Wonderous Stories by Yes                              1      0    \n",
       "2204 Yours Is No Disgrace by Yes                           1      1    \n",
       "2205 Tell Me What You Want by Zebra                        1      0    \n",
       "2206 Who's Behind The Door by Zebra                        1      0    \n",
       "2207 Time of the Season by Zombies                         1      1    \n",
       "2208 A Fool for Your Stockings by ZZ Top                   1      0    \n",
       "2209 Arrested For Driving While Blind by ZZ Top            1      1    \n",
       "2210 Beer Drinkers & Hell Raisers by ZZ Top                1      1    \n",
       "2211 Cheap Sunglasses by ZZ Top                            1      1    \n",
       "2212 Gimme All Your Lovin by ZZ Top                        1      1    \n",
       "2213 Got Me Under Pressure by ZZ Top                       1      1    \n",
       "2214 Heard It On the X by ZZ Top                           1      1    \n",
       "2215 I Thank You by ZZ Top                                 1      0    \n",
       "2216 I'm Bad, I'm Nationwide by ZZ Top                     1      0    \n",
       "2217 Jesus Just Left Chicago by ZZ Top                     1      1    \n",
       "2218 Just Got Paid by ZZ Top                               1      0    \n",
       "2219 La Grange by ZZ Top                                   1      1    \n",
       "2220 Legs by ZZ Top                                        1      1    \n",
       "2221 My Head's In Mississippi by ZZ Top                    1      0    \n",
       "2222 Party On The Patio by ZZ Top                          1      0    \n",
       "2223 Pearl Necklace by ZZ Top                              1      1    \n",
       "2224 Sharp Dressed Man by ZZ Top                           1      1    \n",
       "2225 She Loves My Automobile by ZZ Top                     1      0    \n",
       "2226 Tube Snake Boogie by ZZ Top                           1      1    \n",
       "2227 Tush by ZZ Top                                        1      1    \n",
       "2228 TV Dinners by ZZ Top                                  1      1    \n",
       "2229 WAITIN' FOR THE BUS/JESUS JUST LEFT CHICAGO by ZZ Top 1      1    \n",
       "     PlayCount F.G\n",
       "1    82        82 \n",
       "2     3         0 \n",
       "3    85        85 \n",
       "4    18        18 \n",
       "5     1         1 \n",
       "6    13        13 \n",
       "7     1         1 \n",
       "8     6         6 \n",
       "9     3         3 \n",
       "10    1         1 \n",
       "11    1         0 \n",
       "12   97        97 \n",
       "13    6         6 \n",
       "14    5         0 \n",
       "15   85        85 \n",
       "16   46        46 \n",
       "17   24         0 \n",
       "18    1         1 \n",
       "19   39        39 \n",
       "20   74        74 \n",
       "21   92        92 \n",
       "22   39        39 \n",
       "23    1         1 \n",
       "24    3         3 \n",
       "25    4         0 \n",
       "26    2         0 \n",
       "27   20         0 \n",
       "28    1         1 \n",
       "29   21        21 \n",
       "30   45         0 \n",
       "...  ...       ...\n",
       "2200  81        81\n",
       "2201  44        44\n",
       "2202   1         1\n",
       "2203   5         0\n",
       "2204   1         1\n",
       "2205   2         0\n",
       "2206   1         0\n",
       "2207  14        14\n",
       "2208   1         0\n",
       "2209   1         1\n",
       "2210   8         8\n",
       "2211  34        34\n",
       "2212  86        86\n",
       "2213  29        29\n",
       "2214   2         2\n",
       "2215  16         0\n",
       "2216  10         0\n",
       "2217   6         6\n",
       "2218   2         0\n",
       "2219 111       111\n",
       "2220 121       121\n",
       "2221   1         0\n",
       "2222  14         0\n",
       "2223   5         5\n",
       "2224 120       120\n",
       "2225   1         0\n",
       "2226  32        32\n",
       "2227 109       109\n",
       "2228   1         1\n",
       "2229   2         2"
      ]
     },
     "metadata": {},
     "output_type": "display_data"
    }
   ],
   "source": [
    "# a. Import and Clean the dataset\n",
    "\n",
    "# Read data from github by using Raw\n",
    "# Using read.csv()\n",
    "\n",
    "dataset <- read.csv(\"https://raw.githubusercontent.com/fivethirtyeight/data/master/classic-rock/classic-rock-song-list.csv\")\n",
    "\n",
    "# Print dataset\n",
    "dataset"
   ]
  },
  {
   "cell_type": "code",
   "execution_count": null,
   "id": "analyzed-development",
   "metadata": {},
   "outputs": [],
   "source": [
    "# Since the data set is already clean, we can leave this code\n",
    "# If not clean, uncomment this code below and run\n",
    "\n",
    "dataset[] <- lapply(dataset, function(x) {\n",
    "    x[is.na(x)]<- mean(x, na.rm = TRUE)\n",
    "    x\n",
    "})\n",
    "dataset"
   ]
  },
  {
   "cell_type": "code",
   "execution_count": 13,
   "id": "informational-geometry",
   "metadata": {},
   "outputs": [
    {
     "data": {
      "image/png": "[encoded data removed]",
      "text/plain": [
       "plot without title"
      ]
     },
     "metadata": {
      "image/png": {
       "height": 420,
       "width": 420
      }
     },
     "output_type": "display_data"
    }
   ],
   "source": [
    "# b. Find the x and y variables(axis) from the assigned dataset and give the reason for selecting the x and y axis.\n",
    "\n",
    "plot <- ggplot(dataset, aes(x=ARTIST.CLEAN, y=Release.Year)) + \n",
    "        xlab(\"Artist clean\") + \n",
    "        ylab(\"Release year\")\n",
    "plot"
   ]
  },
  {
   "cell_type": "code",
   "execution_count": 14,
   "id": "cellular-characterization",
   "metadata": {},
   "outputs": [
    {
     "data": {
      "image/png": "[encoded data removed]",
      "text/plain": [
       "plot without title"
      ]
     },
     "metadata": {
      "image/png": {
       "height": 420,
       "width": 420
      }
     },
     "output_type": "display_data"
    }
   ],
   "source": [
    "# c. Plot the graph using geom_col() and perform the linear model in statistics.\n",
    "\n",
    "# using geom_col\n",
    "plot <- plot + geom_col()\n",
    "plot"
   ]
  },
  {
   "cell_type": "code",
   "execution_count": 15,
   "id": "italian-coupon",
   "metadata": {},
   "outputs": [
    {
     "name": "stderr",
     "output_type": "stream",
     "text": [
      "`geom_smooth()` using formula 'y ~ x'\n",
      "\n"
     ]
    },
    {
     "data": {
      "image/png": "[encoded data removed]",
      "text/plain": [
       "plot without title"
      ]
     },
     "metadata": {
      "image/png": {
       "height": 420,
       "width": 420
      }
     },
     "output_type": "display_data"
    }
   ],
   "source": [
    "# perform linear model in smooting\n",
    "plot <- plot + geom_smooth(method = \"lm\")\n",
    "plot"
   ]
  },
  {
   "cell_type": "code",
   "execution_count": null,
   "id": "inside-gnome",
   "metadata": {},
   "outputs": [
    {
     "name": "stderr",
     "output_type": "stream",
     "text": [
      "`geom_smooth()` using formula 'y ~ x'\n",
      "\n"
     ]
    }
   ],
   "source": [
    "# d. Perform the facet with the available columns(Choose the any two variables from the columns)\n",
    "\n",
    "plot <- plot + facet_grid(Song.Clean~Release.Year)\n",
    "plot"
   ]
  },
  {
   "cell_type": "code",
   "execution_count": 18,
   "id": "cheap-donor",
   "metadata": {},
   "outputs": [
    {
     "name": "stderr",
     "output_type": "stream",
     "text": [
      "`geom_smooth()` using formula 'y ~ x'\n",
      "\n"
     ]
    },
    {
     "data": {
      "image/png": "[encoded data removed]",
      "text/plain": [
       "plot without title"
      ]
     },
     "metadata": {
      "image/png": {
       "height": 420,
       "width": 420
      }
     },
     "output_type": "display_data"
    }
   ],
   "source": [
    "# e. Use the theme layer to do the following (Note: Based on dataset, name the x and y axis and graph)\n",
    "#    e.1. x-axis title =“________”, Size=10, Bold, Text in Green color, Center, space between graph and title = 20.\n",
    "#    e.2. y-axis title =“________”, Size=10, Bold, Text in Yellow color, Center, space between graph and title = 20.\n",
    "#    e.3. Graph title =”_________”,Size = 25, Bold, Center, Text in Blue color, space between graph and title = 25.\n",
    "\n",
    "plot <- plot + \n",
    "        ggtitle(\"Artist\") + \n",
    "        theme(axis.title.x = element_text(size=10, color=\"green\", face=\"bold\", margin=margin(t=20, r=20)),\n",
    "             axis.title.y = element_text(size=10, color=\"yellow\", face=\"bold\", margin=margin(t=0, r=20, b=0, l=20)),\n",
    "             plot.title=element_text(size=25, color=\"blue\", face=\"bold\", margin=margin(t=25, r=0, b=25, l=0)))\n",
    "plot"
   ]
  },
  {
   "cell_type": "code",
   "execution_count": 19,
   "id": "vietnamese-instruction",
   "metadata": {},
   "outputs": [
    {
     "name": "stderr",
     "output_type": "stream",
     "text": [
      "Saving 6.67 x 6.67 in image\n",
      "\n",
      "`geom_smooth()` using formula 'y ~ x'\n",
      "\n"
     ]
    }
   ],
   "source": [
    "# Save graph as jpg file\n",
    "\n",
    "ggsave(\"plot.jpg\")"
   ]
  }
 ],
 "metadata": {
  "kernelspec": {
   "display_name": "R",
   "language": "R",
   "name": "ir"
  },
  "language_info": {
   "codemirror_mode": "r",
   "file_extension": ".r",
   "mimetype": "text/x-r-source",
   "name": "R",
   "pygments_lexer": "r",
   "version": "4.0.3"
  }
 },
 "nbformat": 4,
 "nbformat_minor": 5
}
