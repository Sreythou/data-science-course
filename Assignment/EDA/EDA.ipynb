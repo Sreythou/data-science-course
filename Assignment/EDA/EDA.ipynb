{
 "cells": [
  {
   "cell_type": "markdown",
   "id": "pretty-anime",
   "metadata": {},
   "source": [
    "# Exploratory Data Analysisv(EDA):\n",
    "    1. Do manual analyzation of your data set\n",
    "    2. Simplify the variable(Use short term)\n",
    "    3. Reference: help(“mpg’) to know more about the process\n",
    "    4. Import your dataset\n",
    "    5. Clean your dataset\n",
    "    6. Use str function to know about the list of variable and data type of each variables\n",
    "    7. If all your variables are character, please find a way to change datatype of each variable as you want (As actual)\n",
    "    8. Perform the numeric and graphical analyzation\n",
    "        8.1. Mean, Median, Mode (Central tendency)\n",
    "        8.2. Find variance and SD\n",
    "        8.3. Range and Quantile\n",
    "        8.4. Use Summary function to verify your answers\n",
    "        8.5. Filter the random samples using pipe operator\n",
    "        8.6. Try to understand the seed function\n",
    "        8.7. If your dataset’s variables are quantitative, try to plot Histogram and Box plot, Dot plot, Density plot (Using ggplot)\n",
    "        8.8. If your dataset’s variables are qualitative, try to plot Bar chart, Pie chart (Using ggplot)\n",
    "    Note: Please try to use pipe operator as much as you can"
   ]
  },
  {
   "cell_type": "code",
   "execution_count": 2,
   "id": "orange-wealth",
   "metadata": {},
   "outputs": [],
   "source": [
    "# Importing library\n",
    "\n",
    "library(dplyr)\n",
    "library(magrittr)\n",
    "library(ggplot2)"
   ]
  },
  {
   "cell_type": "code",
   "execution_count": 3,
   "id": "parliamentary-adventure",
   "metadata": {},
   "outputs": [
    {
     "data": {
      "text/html": [
       "<table class=\"dataframe\">\n",
       "<caption>A data.frame: 152 × 9</caption>\n",
       "<thead>\n",
       "\t<tr><th scope=col>Batch</th><th scope=col>Year</th><th scope=col>Academic.Rate</th><th scope=col>Internship.Rate</th><th scope=col>Current.Preference</th><th scope=col>After.Graduate</th><th scope=col>Career.Path</th><th scope=col>Prefer.Country</th><th scope=col>Career.Type</th></tr>\n",
       "\t<tr><th scope=col>&lt;int&gt;</th><th scope=col>&lt;chr&gt;</th><th scope=col>&lt;int&gt;</th><th scope=col>&lt;int&gt;</th><th scope=col>&lt;chr&gt;</th><th scope=col>&lt;chr&gt;</th><th scope=col>&lt;chr&gt;</th><th scope=col>&lt;chr&gt;</th><th scope=col>&lt;chr&gt;</th></tr>\n",
       "</thead>\n",
       "<tbody>\n",
       "\t<tr><td>8</td><td>2nd</td><td>3</td><td>4</td><td>Doing business</td><td>Pursue a master's degree</td><td>Entrepreneurship  </td><td>Japan   </td><td>Data Scientist, Database Administrator                                                             </td></tr>\n",
       "\t<tr><td>8</td><td>2nd</td><td>3</td><td>4</td><td>Programming   </td><td>Working                 </td><td>Entrepreneurship  </td><td>Cambodia</td><td>Web Development                                                                                    </td></tr>\n",
       "\t<tr><td>8</td><td>2nd</td><td>4</td><td>5</td><td>Programming   </td><td>Working                 </td><td>Researcher        </td><td>Japan   </td><td>Data Scientist, Database Administrator                                                             </td></tr>\n",
       "\t<tr><td>8</td><td>2nd</td><td>4</td><td>5</td><td>Programming   </td><td>Working                 </td><td>Work for a company</td><td>Japan   </td><td>Web Development, UX/UI, Mobile application development                                             </td></tr>\n",
       "\t<tr><td>8</td><td>2nd</td><td>3</td><td>3</td><td>Programming   </td><td>Working                 </td><td>Work for a company</td><td>Japan   </td><td>Web Development, Data Scientist, Mobile development                                                </td></tr>\n",
       "\t<tr><td>8</td><td>2nd</td><td>4</td><td>3</td><td>Programming   </td><td>Working                 </td><td>Work for a company</td><td>Cambodia</td><td>Web Development, Project Manager, Mobile App Developer                                             </td></tr>\n",
       "\t<tr><td>8</td><td>2nd</td><td>1</td><td>2</td><td>Programming   </td><td>Pursue a master's degree</td><td>Work for a company</td><td>Japan   </td><td>Web Development, Data Scientist, Database Administrator, Digital Marketing                         </td></tr>\n",
       "\t<tr><td>8</td><td>2nd</td><td>3</td><td>3</td><td>Programming   </td><td>Working                 </td><td>Work for a company</td><td>Cambodia</td><td>Web Development, UX/UI, Mobile developer                                                           </td></tr>\n",
       "\t<tr><td>8</td><td>2nd</td><td>1</td><td>2</td><td>Programming   </td><td>Working                 </td><td>Work for a company</td><td>Japan   </td><td>Data Scientist                                                                                     </td></tr>\n",
       "\t<tr><td>8</td><td>2nd</td><td>4</td><td>3</td><td>Doing business</td><td>Working                 </td><td>Work for a company</td><td>Cambodia</td><td>Web Development, Data Scientist, UX/UI, Database Administrator, Project Manager                    </td></tr>\n",
       "\t<tr><td>5</td><td>3rd</td><td>4</td><td>3</td><td>Programming   </td><td>Working                 </td><td>Work for a company</td><td>Japan   </td><td>Web Development, Project Manager                                                                   </td></tr>\n",
       "\t<tr><td>8</td><td>2nd</td><td>4</td><td>4</td><td>Programming   </td><td>Working                 </td><td>Work for a company</td><td>Japan   </td><td>Web Development, Data Scientist, UX/UI                                                             </td></tr>\n",
       "\t<tr><td>6</td><td>3rd</td><td>4</td><td>4</td><td>Doing business</td><td>Working                 </td><td>Entrepreneurship  </td><td>Cambodia</td><td>Graphic Designer, UX/UI, Quality Assurance, Digital Marketing                                      </td></tr>\n",
       "\t<tr><td>6</td><td>3rd</td><td>3</td><td>3</td><td>Programming   </td><td>Working                 </td><td>Work for a company</td><td>Cambodia</td><td>Web Development, UX/UI                                                                             </td></tr>\n",
       "\t<tr><td>8</td><td>2nd</td><td>3</td><td>2</td><td>Programming   </td><td>Working                 </td><td>Work for a company</td><td>Cambodia</td><td>Web Development, Data Scientist, Project Manager                                                   </td></tr>\n",
       "\t<tr><td>8</td><td>2nd</td><td>4</td><td>5</td><td>Doing business</td><td>Working                 </td><td>Work for a company</td><td>Cambodia</td><td>Data Scientist, Graphic Designer, Project Manager                                                  </td></tr>\n",
       "\t<tr><td>6</td><td>3rd</td><td>3</td><td>4</td><td>Doing business</td><td>Working                 </td><td>Work for a company</td><td>Japan   </td><td>Web Development, Data Scientist, UX/UI                                                             </td></tr>\n",
       "\t<tr><td>6</td><td>3rd</td><td>3</td><td>3</td><td>Programming   </td><td>Working                 </td><td>Work for a company</td><td>Japan   </td><td>Web Development, Mobile App Development, Game Development                                          </td></tr>\n",
       "\t<tr><td>8</td><td>2nd</td><td>3</td><td>4</td><td>Programming   </td><td>Pursue a master's degree</td><td>Work for a company</td><td>Japan   </td><td>Web Development, Data Scientist, Graphic Designer, UX/UI, Database Administrator, Digital Marketing</td></tr>\n",
       "\t<tr><td>8</td><td>2nd</td><td>3</td><td>4</td><td>Doing business</td><td>Working                 </td><td>Entrepreneurship  </td><td>Cambodia</td><td>Web Development, Graphic Designer, Digital Marketing, Project Manager                              </td></tr>\n",
       "\t<tr><td>6</td><td>3rd</td><td>3</td><td>3</td><td>Doing business</td><td>Working                 </td><td>Work for a company</td><td>Japan   </td><td>Web Development, UX/UI, Digital Marketing, Project Manager                                         </td></tr>\n",
       "\t<tr><td>6</td><td>3rd</td><td>3</td><td>3</td><td>Doing business</td><td>Working                 </td><td>Entrepreneurship  </td><td>Cambodia</td><td>Graphic Designer, UX/UI, Digital Marketing, Project Manager                                        </td></tr>\n",
       "\t<tr><td>8</td><td>2nd</td><td>1</td><td>3</td><td>Doing business</td><td>Working                 </td><td>Work for a company</td><td>Japan   </td><td>Cyber Security                                                                                     </td></tr>\n",
       "\t<tr><td>8</td><td>2nd</td><td>3</td><td>4</td><td>Programming   </td><td>Working                 </td><td>Entrepreneurship  </td><td>Cambodia</td><td>Web Development, Data Scientist, Graphic Designer, UX/UI                                           </td></tr>\n",
       "\t<tr><td>6</td><td>3rd</td><td>4</td><td>4</td><td>Doing business</td><td>Working                 </td><td>Entrepreneurship  </td><td>Cambodia</td><td>Web Development, Graphic Designer, UX/UI, Digital Marketing, Project Manager                       </td></tr>\n",
       "\t<tr><td>6</td><td>3rd</td><td>3</td><td>5</td><td>Programming   </td><td>Working                 </td><td>Work for a company</td><td>Japan   </td><td>AWS Solution Architecture, Data Center or Lab operation, Network Operations                        </td></tr>\n",
       "\t<tr><td>8</td><td>2nd</td><td>3</td><td>3</td><td>Programming   </td><td>Working                 </td><td>Work for a company</td><td>Cambodia</td><td>Web Development, UX/UI, Database Administrator, Digital Marketing                                  </td></tr>\n",
       "\t<tr><td>8</td><td>2nd</td><td>4</td><td>4</td><td>Programming   </td><td>Working                 </td><td>Work for a company</td><td>Japan   </td><td>Web Development, Data Scientist, Ethical hacker                                                    </td></tr>\n",
       "\t<tr><td>6</td><td>3rd</td><td>3</td><td>3</td><td>Programming   </td><td>Pursue a master's degree</td><td>Researcher        </td><td>Japan   </td><td>Web Development, Data Scientist                                                                    </td></tr>\n",
       "\t<tr><td>6</td><td>3rd</td><td>3</td><td>3</td><td>Programming   </td><td>Working                 </td><td>Work for a company</td><td>Japan   </td><td>Web Development                                                                                    </td></tr>\n",
       "\t<tr><td>...</td><td>...</td><td>...</td><td>...</td><td>...</td><td>...</td><td>...</td><td>...</td><td>...</td></tr>\n",
       "\t<tr><td>6</td><td>3rd</td><td>3</td><td>3</td><td>Programming   </td><td>Working                 </td><td>Work for a company</td><td>Japan   </td><td>Web Development, Data Scientist, Graphic Designer, UX/UI, Digital Marketing, Project Manager</td></tr>\n",
       "\t<tr><td>4</td><td>4th</td><td>3</td><td>3</td><td>Doing business</td><td>Working                 </td><td>Work for a company</td><td>Cambodia</td><td>Web Development, Graphic Designer, Digital Marketing, Mobile app development                </td></tr>\n",
       "\t<tr><td>4</td><td>4th</td><td>4</td><td>4</td><td>Programming   </td><td>Working                 </td><td>Work for a company</td><td>Japan   </td><td>Web Development, Project Manager, AI                                                        </td></tr>\n",
       "\t<tr><td>4</td><td>4th</td><td>3</td><td>4</td><td>Programming   </td><td>Working                 </td><td>Work for a company</td><td>Cambodia</td><td>Data Scientist                                                                              </td></tr>\n",
       "\t<tr><td>6</td><td>3rd</td><td>3</td><td>3</td><td>Programming   </td><td>Working                 </td><td>Work for a company</td><td>Japan   </td><td>Data Scientist                                                                              </td></tr>\n",
       "\t<tr><td>4</td><td>4th</td><td>3</td><td>4</td><td>Programming   </td><td>Pursue a master's degree</td><td>Work for a company</td><td>Japan   </td><td>Web Development, UX/UI, Quality Assurance                                                   </td></tr>\n",
       "\t<tr><td>4</td><td>4th</td><td>4</td><td>4</td><td>Programming   </td><td>Working                 </td><td>Work for a company</td><td>Cambodia</td><td>Data Scientist, Project Manager                                                             </td></tr>\n",
       "\t<tr><td>4</td><td>4th</td><td>3</td><td>3</td><td>Programming   </td><td>Working                 </td><td>Work for a company</td><td>Japan   </td><td>Web Development, Data Scientist                                                             </td></tr>\n",
       "\t<tr><td>4</td><td>4th</td><td>4</td><td>4</td><td>Programming   </td><td>Working                 </td><td>Work for a company</td><td>Cambodia</td><td>Web Development, Project Manager                                                            </td></tr>\n",
       "\t<tr><td>4</td><td>4th</td><td>4</td><td>5</td><td>Programming   </td><td>Working                 </td><td>Work for a company</td><td>Japan   </td><td>Web Development, UX/UI, Digital Marketing, Project Manager                                  </td></tr>\n",
       "\t<tr><td>4</td><td>4th</td><td>3</td><td>3</td><td>Programming   </td><td>Working                 </td><td>Work for a company</td><td>Cambodia</td><td>Web Development, UX/UI, Project Manager                                                     </td></tr>\n",
       "\t<tr><td>4</td><td>4th</td><td>4</td><td>4</td><td>Doing business</td><td>Working                 </td><td>Entrepreneurship  </td><td>Cambodia</td><td>Project Manager, Business                                                                   </td></tr>\n",
       "\t<tr><td>4</td><td>4th</td><td>3</td><td>4</td><td>Doing business</td><td>Pursue a master's degree</td><td>Work for a company</td><td>Cambodia</td><td>Web Development                                                                             </td></tr>\n",
       "\t<tr><td>6</td><td>3rd</td><td>3</td><td>4</td><td>Doing business</td><td>Working                 </td><td>Entrepreneurship  </td><td>Japan   </td><td>Graphic Designer, Digital Marketing, Project Manager                                        </td></tr>\n",
       "\t<tr><td>4</td><td>4th</td><td>3</td><td>3</td><td>Doing business</td><td>Working                 </td><td>Entrepreneurship  </td><td>Cambodia</td><td>Graphic Designer, UX/UI, Digital Marketing, Project Manager                                 </td></tr>\n",
       "\t<tr><td>8</td><td>2nd</td><td>2</td><td>3</td><td>Programming   </td><td>Working                 </td><td>Work for a company</td><td>Cambodia</td><td>Web Development, Data Scientist                                                             </td></tr>\n",
       "\t<tr><td>6</td><td>3rd</td><td>3</td><td>3</td><td>Doing business</td><td>Working                 </td><td>Entrepreneurship  </td><td>Cambodia</td><td>Web Development, Graphic Designer, UX/UI                                                    </td></tr>\n",
       "\t<tr><td>6</td><td>3rd</td><td>3</td><td>3</td><td>Programming   </td><td>Working                 </td><td>Work for a company</td><td>Cambodia</td><td>Web Development, UX/UI, Project Manager                                                     </td></tr>\n",
       "\t<tr><td>4</td><td>4th</td><td>3</td><td>3</td><td>Doing business</td><td>Working                 </td><td>Entrepreneurship  </td><td>Cambodia</td><td>Web Development, Graphic Designer, UX/UI, Digital Marketing, Project Manager                </td></tr>\n",
       "\t<tr><td>6</td><td>3rd</td><td>3</td><td>3</td><td>Programming   </td><td>Working                 </td><td>Work for a company</td><td>Japan   </td><td>Web Development, Graphic Designer, Digital Marketing, Project Manager                       </td></tr>\n",
       "\t<tr><td>8</td><td>2nd</td><td>3</td><td>3</td><td>Programming   </td><td>Working                 </td><td>Work for a company</td><td>Japan   </td><td>Web Development, Data Scientist, Database Administrator, Cyber security                     </td></tr>\n",
       "\t<tr><td>6</td><td>3rd</td><td>3</td><td>3</td><td>Doing business</td><td>Working                 </td><td>Entrepreneurship  </td><td>Japan   </td><td>Web Development, UX/UI, Digital Marketing, Project Manager                                  </td></tr>\n",
       "\t<tr><td>4</td><td>4th</td><td>3</td><td>3</td><td>Doing business</td><td>Working                 </td><td>Entrepreneurship  </td><td>Japan   </td><td>Web Development, Graphic Designer, UX/UI, Database Administrator, Project Manager           </td></tr>\n",
       "\t<tr><td>6</td><td>3rd</td><td>3</td><td>3</td><td>Programming   </td><td>Working                 </td><td>Entrepreneurship  </td><td>Cambodia</td><td>Web Development, UX/UI, Project Manager                                                     </td></tr>\n",
       "\t<tr><td>6</td><td>3rd</td><td>3</td><td>3</td><td>Programming   </td><td>Pursue a master's degree</td><td>Entrepreneurship  </td><td>Cambodia</td><td>Data Scientist, CyberSecurity Researcher, and AI Researcher                                 </td></tr>\n",
       "\t<tr><td>4</td><td>4th</td><td>3</td><td>3</td><td>Programming   </td><td>Working                 </td><td>Work for a company</td><td>Cambodia</td><td>Web Development                                                                             </td></tr>\n",
       "\t<tr><td>6</td><td>3rd</td><td>3</td><td>3</td><td>Doing business</td><td>Pursue a master's degree</td><td>Work for a company</td><td>Japan   </td><td>Data Scientist, UX/UI, Project Manager                                                      </td></tr>\n",
       "\t<tr><td>4</td><td>4th</td><td>3</td><td>3</td><td>Programming   </td><td>Working                 </td><td>Work for a company</td><td>Japan   </td><td>Web Development, Graphic Designer, UX/UI, Database Administrator                            </td></tr>\n",
       "\t<tr><td>4</td><td>4th</td><td>3</td><td>3</td><td>Doing business</td><td>Working                 </td><td>Entrepreneurship  </td><td>Cambodia</td><td>Web Development, UX/UI, Digital Marketing, Project Manager                                  </td></tr>\n",
       "\t<tr><td>6</td><td>3rd</td><td>3</td><td>3</td><td>Doing business</td><td>Working                 </td><td>Work for a company</td><td>Japan   </td><td>Web Development, Graphic Designer, UX/UI, Digital Marketing                                 </td></tr>\n",
       "</tbody>\n",
       "</table>\n"
      ],
      "text/latex": [
       "A data.frame: 152 × 9\n",
       "\\begin{tabular}{lllllllll}\n",
       " Batch & Year & Academic.Rate & Internship.Rate & Current.Preference & After.Graduate & Career.Path & Prefer.Country & Career.Type\\\\\n",
       " <int> & <chr> & <int> & <int> & <chr> & <chr> & <chr> & <chr> & <chr>\\\\\n",
       "\\hline\n",
       "\t 8 & 2nd & 3 & 4 & Doing business & Pursue a master's degree & Entrepreneurship   & Japan    & Data Scientist, Database Administrator                                                             \\\\\n",
       "\t 8 & 2nd & 3 & 4 & Programming    & Working                  & Entrepreneurship   & Cambodia & Web Development                                                                                    \\\\\n",
       "\t 8 & 2nd & 4 & 5 & Programming    & Working                  & Researcher         & Japan    & Data Scientist, Database Administrator                                                             \\\\\n",
       "\t 8 & 2nd & 4 & 5 & Programming    & Working                  & Work for a company & Japan    & Web Development, UX/UI, Mobile application development                                             \\\\\n",
       "\t 8 & 2nd & 3 & 3 & Programming    & Working                  & Work for a company & Japan    & Web Development, Data Scientist, Mobile development                                                \\\\\n",
       "\t 8 & 2nd & 4 & 3 & Programming    & Working                  & Work for a company & Cambodia & Web Development, Project Manager, Mobile App Developer                                             \\\\\n",
       "\t 8 & 2nd & 1 & 2 & Programming    & Pursue a master's degree & Work for a company & Japan    & Web Development, Data Scientist, Database Administrator, Digital Marketing                         \\\\\n",
       "\t 8 & 2nd & 3 & 3 & Programming    & Working                  & Work for a company & Cambodia & Web Development, UX/UI, Mobile developer                                                           \\\\\n",
       "\t 8 & 2nd & 1 & 2 & Programming    & Working                  & Work for a company & Japan    & Data Scientist                                                                                     \\\\\n",
       "\t 8 & 2nd & 4 & 3 & Doing business & Working                  & Work for a company & Cambodia & Web Development, Data Scientist, UX/UI, Database Administrator, Project Manager                    \\\\\n",
       "\t 5 & 3rd & 4 & 3 & Programming    & Working                  & Work for a company & Japan    & Web Development, Project Manager                                                                   \\\\\n",
       "\t 8 & 2nd & 4 & 4 & Programming    & Working                  & Work for a company & Japan    & Web Development, Data Scientist, UX/UI                                                             \\\\\n",
       "\t 6 & 3rd & 4 & 4 & Doing business & Working                  & Entrepreneurship   & Cambodia & Graphic Designer, UX/UI, Quality Assurance, Digital Marketing                                      \\\\\n",
       "\t 6 & 3rd & 3 & 3 & Programming    & Working                  & Work for a company & Cambodia & Web Development, UX/UI                                                                             \\\\\n",
       "\t 8 & 2nd & 3 & 2 & Programming    & Working                  & Work for a company & Cambodia & Web Development, Data Scientist, Project Manager                                                   \\\\\n",
       "\t 8 & 2nd & 4 & 5 & Doing business & Working                  & Work for a company & Cambodia & Data Scientist, Graphic Designer, Project Manager                                                  \\\\\n",
       "\t 6 & 3rd & 3 & 4 & Doing business & Working                  & Work for a company & Japan    & Web Development, Data Scientist, UX/UI                                                             \\\\\n",
       "\t 6 & 3rd & 3 & 3 & Programming    & Working                  & Work for a company & Japan    & Web Development, Mobile App Development, Game Development                                          \\\\\n",
       "\t 8 & 2nd & 3 & 4 & Programming    & Pursue a master's degree & Work for a company & Japan    & Web Development, Data Scientist, Graphic Designer, UX/UI, Database Administrator, Digital Marketing\\\\\n",
       "\t 8 & 2nd & 3 & 4 & Doing business & Working                  & Entrepreneurship   & Cambodia & Web Development, Graphic Designer, Digital Marketing, Project Manager                              \\\\\n",
       "\t 6 & 3rd & 3 & 3 & Doing business & Working                  & Work for a company & Japan    & Web Development, UX/UI, Digital Marketing, Project Manager                                         \\\\\n",
       "\t 6 & 3rd & 3 & 3 & Doing business & Working                  & Entrepreneurship   & Cambodia & Graphic Designer, UX/UI, Digital Marketing, Project Manager                                        \\\\\n",
       "\t 8 & 2nd & 1 & 3 & Doing business & Working                  & Work for a company & Japan    & Cyber Security                                                                                     \\\\\n",
       "\t 8 & 2nd & 3 & 4 & Programming    & Working                  & Entrepreneurship   & Cambodia & Web Development, Data Scientist, Graphic Designer, UX/UI                                           \\\\\n",
       "\t 6 & 3rd & 4 & 4 & Doing business & Working                  & Entrepreneurship   & Cambodia & Web Development, Graphic Designer, UX/UI, Digital Marketing, Project Manager                       \\\\\n",
       "\t 6 & 3rd & 3 & 5 & Programming    & Working                  & Work for a company & Japan    & AWS Solution Architecture, Data Center or Lab operation, Network Operations                        \\\\\n",
       "\t 8 & 2nd & 3 & 3 & Programming    & Working                  & Work for a company & Cambodia & Web Development, UX/UI, Database Administrator, Digital Marketing                                  \\\\\n",
       "\t 8 & 2nd & 4 & 4 & Programming    & Working                  & Work for a company & Japan    & Web Development, Data Scientist, Ethical hacker                                                    \\\\\n",
       "\t 6 & 3rd & 3 & 3 & Programming    & Pursue a master's degree & Researcher         & Japan    & Web Development, Data Scientist                                                                    \\\\\n",
       "\t 6 & 3rd & 3 & 3 & Programming    & Working                  & Work for a company & Japan    & Web Development                                                                                    \\\\\n",
       "\t ... & ... & ... & ... & ... & ... & ... & ... & ...\\\\\n",
       "\t 6 & 3rd & 3 & 3 & Programming    & Working                  & Work for a company & Japan    & Web Development, Data Scientist, Graphic Designer, UX/UI, Digital Marketing, Project Manager\\\\\n",
       "\t 4 & 4th & 3 & 3 & Doing business & Working                  & Work for a company & Cambodia & Web Development, Graphic Designer, Digital Marketing, Mobile app development                \\\\\n",
       "\t 4 & 4th & 4 & 4 & Programming    & Working                  & Work for a company & Japan    & Web Development, Project Manager, AI                                                        \\\\\n",
       "\t 4 & 4th & 3 & 4 & Programming    & Working                  & Work for a company & Cambodia & Data Scientist                                                                              \\\\\n",
       "\t 6 & 3rd & 3 & 3 & Programming    & Working                  & Work for a company & Japan    & Data Scientist                                                                              \\\\\n",
       "\t 4 & 4th & 3 & 4 & Programming    & Pursue a master's degree & Work for a company & Japan    & Web Development, UX/UI, Quality Assurance                                                   \\\\\n",
       "\t 4 & 4th & 4 & 4 & Programming    & Working                  & Work for a company & Cambodia & Data Scientist, Project Manager                                                             \\\\\n",
       "\t 4 & 4th & 3 & 3 & Programming    & Working                  & Work for a company & Japan    & Web Development, Data Scientist                                                             \\\\\n",
       "\t 4 & 4th & 4 & 4 & Programming    & Working                  & Work for a company & Cambodia & Web Development, Project Manager                                                            \\\\\n",
       "\t 4 & 4th & 4 & 5 & Programming    & Working                  & Work for a company & Japan    & Web Development, UX/UI, Digital Marketing, Project Manager                                  \\\\\n",
       "\t 4 & 4th & 3 & 3 & Programming    & Working                  & Work for a company & Cambodia & Web Development, UX/UI, Project Manager                                                     \\\\\n",
       "\t 4 & 4th & 4 & 4 & Doing business & Working                  & Entrepreneurship   & Cambodia & Project Manager, Business                                                                   \\\\\n",
       "\t 4 & 4th & 3 & 4 & Doing business & Pursue a master's degree & Work for a company & Cambodia & Web Development                                                                             \\\\\n",
       "\t 6 & 3rd & 3 & 4 & Doing business & Working                  & Entrepreneurship   & Japan    & Graphic Designer, Digital Marketing, Project Manager                                        \\\\\n",
       "\t 4 & 4th & 3 & 3 & Doing business & Working                  & Entrepreneurship   & Cambodia & Graphic Designer, UX/UI, Digital Marketing, Project Manager                                 \\\\\n",
       "\t 8 & 2nd & 2 & 3 & Programming    & Working                  & Work for a company & Cambodia & Web Development, Data Scientist                                                             \\\\\n",
       "\t 6 & 3rd & 3 & 3 & Doing business & Working                  & Entrepreneurship   & Cambodia & Web Development, Graphic Designer, UX/UI                                                    \\\\\n",
       "\t 6 & 3rd & 3 & 3 & Programming    & Working                  & Work for a company & Cambodia & Web Development, UX/UI, Project Manager                                                     \\\\\n",
       "\t 4 & 4th & 3 & 3 & Doing business & Working                  & Entrepreneurship   & Cambodia & Web Development, Graphic Designer, UX/UI, Digital Marketing, Project Manager                \\\\\n",
       "\t 6 & 3rd & 3 & 3 & Programming    & Working                  & Work for a company & Japan    & Web Development, Graphic Designer, Digital Marketing, Project Manager                       \\\\\n",
       "\t 8 & 2nd & 3 & 3 & Programming    & Working                  & Work for a company & Japan    & Web Development, Data Scientist, Database Administrator, Cyber security                     \\\\\n",
       "\t 6 & 3rd & 3 & 3 & Doing business & Working                  & Entrepreneurship   & Japan    & Web Development, UX/UI, Digital Marketing, Project Manager                                  \\\\\n",
       "\t 4 & 4th & 3 & 3 & Doing business & Working                  & Entrepreneurship   & Japan    & Web Development, Graphic Designer, UX/UI, Database Administrator, Project Manager           \\\\\n",
       "\t 6 & 3rd & 3 & 3 & Programming    & Working                  & Entrepreneurship   & Cambodia & Web Development, UX/UI, Project Manager                                                     \\\\\n",
       "\t 6 & 3rd & 3 & 3 & Programming    & Pursue a master's degree & Entrepreneurship   & Cambodia & Data Scientist, CyberSecurity Researcher, and AI Researcher                                 \\\\\n",
       "\t 4 & 4th & 3 & 3 & Programming    & Working                  & Work for a company & Cambodia & Web Development                                                                             \\\\\n",
       "\t 6 & 3rd & 3 & 3 & Doing business & Pursue a master's degree & Work for a company & Japan    & Data Scientist, UX/UI, Project Manager                                                      \\\\\n",
       "\t 4 & 4th & 3 & 3 & Programming    & Working                  & Work for a company & Japan    & Web Development, Graphic Designer, UX/UI, Database Administrator                            \\\\\n",
       "\t 4 & 4th & 3 & 3 & Doing business & Working                  & Entrepreneurship   & Cambodia & Web Development, UX/UI, Digital Marketing, Project Manager                                  \\\\\n",
       "\t 6 & 3rd & 3 & 3 & Doing business & Working                  & Work for a company & Japan    & Web Development, Graphic Designer, UX/UI, Digital Marketing                                 \\\\\n",
       "\\end{tabular}\n"
      ],
      "text/markdown": [
       "\n",
       "A data.frame: 152 × 9\n",
       "\n",
       "| Batch &lt;int&gt; | Year &lt;chr&gt; | Academic.Rate &lt;int&gt; | Internship.Rate &lt;int&gt; | Current.Preference &lt;chr&gt; | After.Graduate &lt;chr&gt; | Career.Path &lt;chr&gt; | Prefer.Country &lt;chr&gt; | Career.Type &lt;chr&gt; |\n",
       "|---|---|---|---|---|---|---|---|---|\n",
       "| 8 | 2nd | 3 | 4 | Doing business | Pursue a master's degree | Entrepreneurship   | Japan    | Data Scientist, Database Administrator                                                              |\n",
       "| 8 | 2nd | 3 | 4 | Programming    | Working                  | Entrepreneurship   | Cambodia | Web Development                                                                                     |\n",
       "| 8 | 2nd | 4 | 5 | Programming    | Working                  | Researcher         | Japan    | Data Scientist, Database Administrator                                                              |\n",
       "| 8 | 2nd | 4 | 5 | Programming    | Working                  | Work for a company | Japan    | Web Development, UX/UI, Mobile application development                                              |\n",
       "| 8 | 2nd | 3 | 3 | Programming    | Working                  | Work for a company | Japan    | Web Development, Data Scientist, Mobile development                                                 |\n",
       "| 8 | 2nd | 4 | 3 | Programming    | Working                  | Work for a company | Cambodia | Web Development, Project Manager, Mobile App Developer                                              |\n",
       "| 8 | 2nd | 1 | 2 | Programming    | Pursue a master's degree | Work for a company | Japan    | Web Development, Data Scientist, Database Administrator, Digital Marketing                          |\n",
       "| 8 | 2nd | 3 | 3 | Programming    | Working                  | Work for a company | Cambodia | Web Development, UX/UI, Mobile developer                                                            |\n",
       "| 8 | 2nd | 1 | 2 | Programming    | Working                  | Work for a company | Japan    | Data Scientist                                                                                      |\n",
       "| 8 | 2nd | 4 | 3 | Doing business | Working                  | Work for a company | Cambodia | Web Development, Data Scientist, UX/UI, Database Administrator, Project Manager                     |\n",
       "| 5 | 3rd | 4 | 3 | Programming    | Working                  | Work for a company | Japan    | Web Development, Project Manager                                                                    |\n",
       "| 8 | 2nd | 4 | 4 | Programming    | Working                  | Work for a company | Japan    | Web Development, Data Scientist, UX/UI                                                              |\n",
       "| 6 | 3rd | 4 | 4 | Doing business | Working                  | Entrepreneurship   | Cambodia | Graphic Designer, UX/UI, Quality Assurance, Digital Marketing                                       |\n",
       "| 6 | 3rd | 3 | 3 | Programming    | Working                  | Work for a company | Cambodia | Web Development, UX/UI                                                                              |\n",
       "| 8 | 2nd | 3 | 2 | Programming    | Working                  | Work for a company | Cambodia | Web Development, Data Scientist, Project Manager                                                    |\n",
       "| 8 | 2nd | 4 | 5 | Doing business | Working                  | Work for a company | Cambodia | Data Scientist, Graphic Designer, Project Manager                                                   |\n",
       "| 6 | 3rd | 3 | 4 | Doing business | Working                  | Work for a company | Japan    | Web Development, Data Scientist, UX/UI                                                              |\n",
       "| 6 | 3rd | 3 | 3 | Programming    | Working                  | Work for a company | Japan    | Web Development, Mobile App Development, Game Development                                           |\n",
       "| 8 | 2nd | 3 | 4 | Programming    | Pursue a master's degree | Work for a company | Japan    | Web Development, Data Scientist, Graphic Designer, UX/UI, Database Administrator, Digital Marketing |\n",
       "| 8 | 2nd | 3 | 4 | Doing business | Working                  | Entrepreneurship   | Cambodia | Web Development, Graphic Designer, Digital Marketing, Project Manager                               |\n",
       "| 6 | 3rd | 3 | 3 | Doing business | Working                  | Work for a company | Japan    | Web Development, UX/UI, Digital Marketing, Project Manager                                          |\n",
       "| 6 | 3rd | 3 | 3 | Doing business | Working                  | Entrepreneurship   | Cambodia | Graphic Designer, UX/UI, Digital Marketing, Project Manager                                         |\n",
       "| 8 | 2nd | 1 | 3 | Doing business | Working                  | Work for a company | Japan    | Cyber Security                                                                                      |\n",
       "| 8 | 2nd | 3 | 4 | Programming    | Working                  | Entrepreneurship   | Cambodia | Web Development, Data Scientist, Graphic Designer, UX/UI                                            |\n",
       "| 6 | 3rd | 4 | 4 | Doing business | Working                  | Entrepreneurship   | Cambodia | Web Development, Graphic Designer, UX/UI, Digital Marketing, Project Manager                        |\n",
       "| 6 | 3rd | 3 | 5 | Programming    | Working                  | Work for a company | Japan    | AWS Solution Architecture, Data Center or Lab operation, Network Operations                         |\n",
       "| 8 | 2nd | 3 | 3 | Programming    | Working                  | Work for a company | Cambodia | Web Development, UX/UI, Database Administrator, Digital Marketing                                   |\n",
       "| 8 | 2nd | 4 | 4 | Programming    | Working                  | Work for a company | Japan    | Web Development, Data Scientist, Ethical hacker                                                     |\n",
       "| 6 | 3rd | 3 | 3 | Programming    | Pursue a master's degree | Researcher         | Japan    | Web Development, Data Scientist                                                                     |\n",
       "| 6 | 3rd | 3 | 3 | Programming    | Working                  | Work for a company | Japan    | Web Development                                                                                     |\n",
       "| ... | ... | ... | ... | ... | ... | ... | ... | ... |\n",
       "| 6 | 3rd | 3 | 3 | Programming    | Working                  | Work for a company | Japan    | Web Development, Data Scientist, Graphic Designer, UX/UI, Digital Marketing, Project Manager |\n",
       "| 4 | 4th | 3 | 3 | Doing business | Working                  | Work for a company | Cambodia | Web Development, Graphic Designer, Digital Marketing, Mobile app development                 |\n",
       "| 4 | 4th | 4 | 4 | Programming    | Working                  | Work for a company | Japan    | Web Development, Project Manager, AI                                                         |\n",
       "| 4 | 4th | 3 | 4 | Programming    | Working                  | Work for a company | Cambodia | Data Scientist                                                                               |\n",
       "| 6 | 3rd | 3 | 3 | Programming    | Working                  | Work for a company | Japan    | Data Scientist                                                                               |\n",
       "| 4 | 4th | 3 | 4 | Programming    | Pursue a master's degree | Work for a company | Japan    | Web Development, UX/UI, Quality Assurance                                                    |\n",
       "| 4 | 4th | 4 | 4 | Programming    | Working                  | Work for a company | Cambodia | Data Scientist, Project Manager                                                              |\n",
       "| 4 | 4th | 3 | 3 | Programming    | Working                  | Work for a company | Japan    | Web Development, Data Scientist                                                              |\n",
       "| 4 | 4th | 4 | 4 | Programming    | Working                  | Work for a company | Cambodia | Web Development, Project Manager                                                             |\n",
       "| 4 | 4th | 4 | 5 | Programming    | Working                  | Work for a company | Japan    | Web Development, UX/UI, Digital Marketing, Project Manager                                   |\n",
       "| 4 | 4th | 3 | 3 | Programming    | Working                  | Work for a company | Cambodia | Web Development, UX/UI, Project Manager                                                      |\n",
       "| 4 | 4th | 4 | 4 | Doing business | Working                  | Entrepreneurship   | Cambodia | Project Manager, Business                                                                    |\n",
       "| 4 | 4th | 3 | 4 | Doing business | Pursue a master's degree | Work for a company | Cambodia | Web Development                                                                              |\n",
       "| 6 | 3rd | 3 | 4 | Doing business | Working                  | Entrepreneurship   | Japan    | Graphic Designer, Digital Marketing, Project Manager                                         |\n",
       "| 4 | 4th | 3 | 3 | Doing business | Working                  | Entrepreneurship   | Cambodia | Graphic Designer, UX/UI, Digital Marketing, Project Manager                                  |\n",
       "| 8 | 2nd | 2 | 3 | Programming    | Working                  | Work for a company | Cambodia | Web Development, Data Scientist                                                              |\n",
       "| 6 | 3rd | 3 | 3 | Doing business | Working                  | Entrepreneurship   | Cambodia | Web Development, Graphic Designer, UX/UI                                                     |\n",
       "| 6 | 3rd | 3 | 3 | Programming    | Working                  | Work for a company | Cambodia | Web Development, UX/UI, Project Manager                                                      |\n",
       "| 4 | 4th | 3 | 3 | Doing business | Working                  | Entrepreneurship   | Cambodia | Web Development, Graphic Designer, UX/UI, Digital Marketing, Project Manager                 |\n",
       "| 6 | 3rd | 3 | 3 | Programming    | Working                  | Work for a company | Japan    | Web Development, Graphic Designer, Digital Marketing, Project Manager                        |\n",
       "| 8 | 2nd | 3 | 3 | Programming    | Working                  | Work for a company | Japan    | Web Development, Data Scientist, Database Administrator, Cyber security                      |\n",
       "| 6 | 3rd | 3 | 3 | Doing business | Working                  | Entrepreneurship   | Japan    | Web Development, UX/UI, Digital Marketing, Project Manager                                   |\n",
       "| 4 | 4th | 3 | 3 | Doing business | Working                  | Entrepreneurship   | Japan    | Web Development, Graphic Designer, UX/UI, Database Administrator, Project Manager            |\n",
       "| 6 | 3rd | 3 | 3 | Programming    | Working                  | Entrepreneurship   | Cambodia | Web Development, UX/UI, Project Manager                                                      |\n",
       "| 6 | 3rd | 3 | 3 | Programming    | Pursue a master's degree | Entrepreneurship   | Cambodia | Data Scientist, CyberSecurity Researcher, and AI Researcher                                  |\n",
       "| 4 | 4th | 3 | 3 | Programming    | Working                  | Work for a company | Cambodia | Web Development                                                                              |\n",
       "| 6 | 3rd | 3 | 3 | Doing business | Pursue a master's degree | Work for a company | Japan    | Data Scientist, UX/UI, Project Manager                                                       |\n",
       "| 4 | 4th | 3 | 3 | Programming    | Working                  | Work for a company | Japan    | Web Development, Graphic Designer, UX/UI, Database Administrator                             |\n",
       "| 4 | 4th | 3 | 3 | Doing business | Working                  | Entrepreneurship   | Cambodia | Web Development, UX/UI, Digital Marketing, Project Manager                                   |\n",
       "| 6 | 3rd | 3 | 3 | Doing business | Working                  | Work for a company | Japan    | Web Development, Graphic Designer, UX/UI, Digital Marketing                                  |\n",
       "\n"
      ],
      "text/plain": [
       "    Batch Year Academic.Rate Internship.Rate Current.Preference\n",
       "1   8     2nd  3             4               Doing business    \n",
       "2   8     2nd  3             4               Programming       \n",
       "3   8     2nd  4             5               Programming       \n",
       "4   8     2nd  4             5               Programming       \n",
       "5   8     2nd  3             3               Programming       \n",
       "6   8     2nd  4             3               Programming       \n",
       "7   8     2nd  1             2               Programming       \n",
       "8   8     2nd  3             3               Programming       \n",
       "9   8     2nd  1             2               Programming       \n",
       "10  8     2nd  4             3               Doing business    \n",
       "11  5     3rd  4             3               Programming       \n",
       "12  8     2nd  4             4               Programming       \n",
       "13  6     3rd  4             4               Doing business    \n",
       "14  6     3rd  3             3               Programming       \n",
       "15  8     2nd  3             2               Programming       \n",
       "16  8     2nd  4             5               Doing business    \n",
       "17  6     3rd  3             4               Doing business    \n",
       "18  6     3rd  3             3               Programming       \n",
       "19  8     2nd  3             4               Programming       \n",
       "20  8     2nd  3             4               Doing business    \n",
       "21  6     3rd  3             3               Doing business    \n",
       "22  6     3rd  3             3               Doing business    \n",
       "23  8     2nd  1             3               Doing business    \n",
       "24  8     2nd  3             4               Programming       \n",
       "25  6     3rd  4             4               Doing business    \n",
       "26  6     3rd  3             5               Programming       \n",
       "27  8     2nd  3             3               Programming       \n",
       "28  8     2nd  4             4               Programming       \n",
       "29  6     3rd  3             3               Programming       \n",
       "30  6     3rd  3             3               Programming       \n",
       "... ...   ...  ...           ...             ...               \n",
       "123 6     3rd  3             3               Programming       \n",
       "124 4     4th  3             3               Doing business    \n",
       "125 4     4th  4             4               Programming       \n",
       "126 4     4th  3             4               Programming       \n",
       "127 6     3rd  3             3               Programming       \n",
       "128 4     4th  3             4               Programming       \n",
       "129 4     4th  4             4               Programming       \n",
       "130 4     4th  3             3               Programming       \n",
       "131 4     4th  4             4               Programming       \n",
       "132 4     4th  4             5               Programming       \n",
       "133 4     4th  3             3               Programming       \n",
       "134 4     4th  4             4               Doing business    \n",
       "135 4     4th  3             4               Doing business    \n",
       "136 6     3rd  3             4               Doing business    \n",
       "137 4     4th  3             3               Doing business    \n",
       "138 8     2nd  2             3               Programming       \n",
       "139 6     3rd  3             3               Doing business    \n",
       "140 6     3rd  3             3               Programming       \n",
       "141 4     4th  3             3               Doing business    \n",
       "142 6     3rd  3             3               Programming       \n",
       "143 8     2nd  3             3               Programming       \n",
       "144 6     3rd  3             3               Doing business    \n",
       "145 4     4th  3             3               Doing business    \n",
       "146 6     3rd  3             3               Programming       \n",
       "147 6     3rd  3             3               Programming       \n",
       "148 4     4th  3             3               Programming       \n",
       "149 6     3rd  3             3               Doing business    \n",
       "150 4     4th  3             3               Programming       \n",
       "151 4     4th  3             3               Doing business    \n",
       "152 6     3rd  3             3               Doing business    \n",
       "    After.Graduate           Career.Path        Prefer.Country\n",
       "1   Pursue a master's degree Entrepreneurship   Japan         \n",
       "2   Working                  Entrepreneurship   Cambodia      \n",
       "3   Working                  Researcher         Japan         \n",
       "4   Working                  Work for a company Japan         \n",
       "5   Working                  Work for a company Japan         \n",
       "6   Working                  Work for a company Cambodia      \n",
       "7   Pursue a master's degree Work for a company Japan         \n",
       "8   Working                  Work for a company Cambodia      \n",
       "9   Working                  Work for a company Japan         \n",
       "10  Working                  Work for a company Cambodia      \n",
       "11  Working                  Work for a company Japan         \n",
       "12  Working                  Work for a company Japan         \n",
       "13  Working                  Entrepreneurship   Cambodia      \n",
       "14  Working                  Work for a company Cambodia      \n",
       "15  Working                  Work for a company Cambodia      \n",
       "16  Working                  Work for a company Cambodia      \n",
       "17  Working                  Work for a company Japan         \n",
       "18  Working                  Work for a company Japan         \n",
       "19  Pursue a master's degree Work for a company Japan         \n",
       "20  Working                  Entrepreneurship   Cambodia      \n",
       "21  Working                  Work for a company Japan         \n",
       "22  Working                  Entrepreneurship   Cambodia      \n",
       "23  Working                  Work for a company Japan         \n",
       "24  Working                  Entrepreneurship   Cambodia      \n",
       "25  Working                  Entrepreneurship   Cambodia      \n",
       "26  Working                  Work for a company Japan         \n",
       "27  Working                  Work for a company Cambodia      \n",
       "28  Working                  Work for a company Japan         \n",
       "29  Pursue a master's degree Researcher         Japan         \n",
       "30  Working                  Work for a company Japan         \n",
       "... ...                      ...                ...           \n",
       "123 Working                  Work for a company Japan         \n",
       "124 Working                  Work for a company Cambodia      \n",
       "125 Working                  Work for a company Japan         \n",
       "126 Working                  Work for a company Cambodia      \n",
       "127 Working                  Work for a company Japan         \n",
       "128 Pursue a master's degree Work for a company Japan         \n",
       "129 Working                  Work for a company Cambodia      \n",
       "130 Working                  Work for a company Japan         \n",
       "131 Working                  Work for a company Cambodia      \n",
       "132 Working                  Work for a company Japan         \n",
       "133 Working                  Work for a company Cambodia      \n",
       "134 Working                  Entrepreneurship   Cambodia      \n",
       "135 Pursue a master's degree Work for a company Cambodia      \n",
       "136 Working                  Entrepreneurship   Japan         \n",
       "137 Working                  Entrepreneurship   Cambodia      \n",
       "138 Working                  Work for a company Cambodia      \n",
       "139 Working                  Entrepreneurship   Cambodia      \n",
       "140 Working                  Work for a company Cambodia      \n",
       "141 Working                  Entrepreneurship   Cambodia      \n",
       "142 Working                  Work for a company Japan         \n",
       "143 Working                  Work for a company Japan         \n",
       "144 Working                  Entrepreneurship   Japan         \n",
       "145 Working                  Entrepreneurship   Japan         \n",
       "146 Working                  Entrepreneurship   Cambodia      \n",
       "147 Pursue a master's degree Entrepreneurship   Cambodia      \n",
       "148 Working                  Work for a company Cambodia      \n",
       "149 Pursue a master's degree Work for a company Japan         \n",
       "150 Working                  Work for a company Japan         \n",
       "151 Working                  Entrepreneurship   Cambodia      \n",
       "152 Working                  Work for a company Japan         \n",
       "    Career.Type                                                                                        \n",
       "1   Data Scientist, Database Administrator                                                             \n",
       "2   Web Development                                                                                    \n",
       "3   Data Scientist, Database Administrator                                                             \n",
       "4   Web Development, UX/UI, Mobile application development                                             \n",
       "5   Web Development, Data Scientist, Mobile development                                                \n",
       "6   Web Development, Project Manager, Mobile App Developer                                             \n",
       "7   Web Development, Data Scientist, Database Administrator, Digital Marketing                         \n",
       "8   Web Development, UX/UI, Mobile developer                                                           \n",
       "9   Data Scientist                                                                                     \n",
       "10  Web Development, Data Scientist, UX/UI, Database Administrator, Project Manager                    \n",
       "11  Web Development, Project Manager                                                                   \n",
       "12  Web Development, Data Scientist, UX/UI                                                             \n",
       "13  Graphic Designer, UX/UI, Quality Assurance, Digital Marketing                                      \n",
       "14  Web Development, UX/UI                                                                             \n",
       "15  Web Development, Data Scientist, Project Manager                                                   \n",
       "16  Data Scientist, Graphic Designer, Project Manager                                                  \n",
       "17  Web Development, Data Scientist, UX/UI                                                             \n",
       "18  Web Development, Mobile App Development, Game Development                                          \n",
       "19  Web Development, Data Scientist, Graphic Designer, UX/UI, Database Administrator, Digital Marketing\n",
       "20  Web Development, Graphic Designer, Digital Marketing, Project Manager                              \n",
       "21  Web Development, UX/UI, Digital Marketing, Project Manager                                         \n",
       "22  Graphic Designer, UX/UI, Digital Marketing, Project Manager                                        \n",
       "23  Cyber Security                                                                                     \n",
       "24  Web Development, Data Scientist, Graphic Designer, UX/UI                                           \n",
       "25  Web Development, Graphic Designer, UX/UI, Digital Marketing, Project Manager                       \n",
       "26  AWS Solution Architecture, Data Center or Lab operation, Network Operations                        \n",
       "27  Web Development, UX/UI, Database Administrator, Digital Marketing                                  \n",
       "28  Web Development, Data Scientist, Ethical hacker                                                    \n",
       "29  Web Development, Data Scientist                                                                    \n",
       "30  Web Development                                                                                    \n",
       "... ...                                                                                                \n",
       "123 Web Development, Data Scientist, Graphic Designer, UX/UI, Digital Marketing, Project Manager       \n",
       "124 Web Development, Graphic Designer, Digital Marketing, Mobile app development                       \n",
       "125 Web Development, Project Manager, AI                                                               \n",
       "126 Data Scientist                                                                                     \n",
       "127 Data Scientist                                                                                     \n",
       "128 Web Development, UX/UI, Quality Assurance                                                          \n",
       "129 Data Scientist, Project Manager                                                                    \n",
       "130 Web Development, Data Scientist                                                                    \n",
       "131 Web Development, Project Manager                                                                   \n",
       "132 Web Development, UX/UI, Digital Marketing, Project Manager                                         \n",
       "133 Web Development, UX/UI, Project Manager                                                            \n",
       "134 Project Manager, Business                                                                          \n",
       "135 Web Development                                                                                    \n",
       "136 Graphic Designer, Digital Marketing, Project Manager                                               \n",
       "137 Graphic Designer, UX/UI, Digital Marketing, Project Manager                                        \n",
       "138 Web Development, Data Scientist                                                                    \n",
       "139 Web Development, Graphic Designer, UX/UI                                                           \n",
       "140 Web Development, UX/UI, Project Manager                                                            \n",
       "141 Web Development, Graphic Designer, UX/UI, Digital Marketing, Project Manager                       \n",
       "142 Web Development, Graphic Designer, Digital Marketing, Project Manager                              \n",
       "143 Web Development, Data Scientist, Database Administrator, Cyber security                            \n",
       "144 Web Development, UX/UI, Digital Marketing, Project Manager                                         \n",
       "145 Web Development, Graphic Designer, UX/UI, Database Administrator, Project Manager                  \n",
       "146 Web Development, UX/UI, Project Manager                                                            \n",
       "147 Data Scientist, CyberSecurity Researcher, and AI Researcher                                        \n",
       "148 Web Development                                                                                    \n",
       "149 Data Scientist, UX/UI, Project Manager                                                             \n",
       "150 Web Development, Graphic Designer, UX/UI, Database Administrator                                   \n",
       "151 Web Development, UX/UI, Digital Marketing, Project Manager                                         \n",
       "152 Web Development, Graphic Designer, UX/UI, Digital Marketing                                        "
      ]
     },
     "metadata": {},
     "output_type": "display_data"
    }
   ],
   "source": [
    "# 4. Import the dataset\n",
    "\n",
    "dataset <- read.csv(\"future_career_path_evaluation.csv\")\n",
    "dataset"
   ]
  },
  {
   "cell_type": "code",
   "execution_count": 4,
   "id": "confident-allocation",
   "metadata": {},
   "outputs": [
    {
     "name": "stderr",
     "output_type": "stream",
     "text": [
      "Warning message in rbind(parts$upper, ellip_v, parts$lower, deparse.level = 0L):\n",
      "\"number of columns of result is not a multiple of vector length (arg 2)\"\n"
     ]
    },
    {
     "data": {
      "text/html": [],
      "text/latex": [],
      "text/markdown": [],
      "text/plain": [
       "   \n",
       "1  \n",
       "2  \n",
       "3  \n",
       "4  \n",
       "5  \n",
       "6  \n",
       "7  \n",
       "8  \n",
       "9  \n",
       "10 \n",
       "11 \n",
       "12 \n",
       "13 \n",
       "14 \n",
       "15 \n",
       "16 \n",
       "17 \n",
       "18 \n",
       "19 \n",
       "20 \n",
       "21 \n",
       "22 \n",
       "23 \n",
       "24 \n",
       "25 \n",
       "26 \n",
       "27 \n",
       "28 \n",
       "29 \n",
       "30 \n",
       "...\n",
       "123\n",
       "124\n",
       "125\n",
       "126\n",
       "127\n",
       "128\n",
       "129\n",
       "130\n",
       "131\n",
       "132\n",
       "133\n",
       "134\n",
       "135\n",
       "136\n",
       "137\n",
       "138\n",
       "139\n",
       "140\n",
       "141\n",
       "142\n",
       "143\n",
       "144\n",
       "145\n",
       "146\n",
       "147\n",
       "148\n",
       "149\n",
       "150\n",
       "151\n",
       "152"
      ]
     },
     "metadata": {},
     "output_type": "display_data"
    }
   ],
   "source": [
    "# 5. Clean the data by using is.na() to find missing value\n",
    "dataset[which(is.na(dataset))]\n",
    "\n",
    "# Since this dataset already clean, so there is not missing value"
   ]
  },
  {
   "cell_type": "code",
   "execution_count": 5,
   "id": "mysterious-attack",
   "metadata": {},
   "outputs": [
    {
     "name": "stdout",
     "output_type": "stream",
     "text": [
      "'data.frame':\t152 obs. of  9 variables:\n",
      " $ Batch             : int  8 8 8 8 8 8 8 8 8 8 ...\n",
      " $ Year              : chr  \"2nd\" \"2nd\" \"2nd\" \"2nd\" ...\n",
      " $ Academic.Rate     : int  3 3 4 4 3 4 1 3 1 4 ...\n",
      " $ Internship.Rate   : int  4 4 5 5 3 3 2 3 2 3 ...\n",
      " $ Current.Preference: chr  \"Doing business\" \"Programming\" \"Programming\" \"Programming\" ...\n",
      " $ After.Graduate    : chr  \"Pursue a master's degree\" \"Working\" \"Working\" \"Working\" ...\n",
      " $ Career.Path       : chr  \"Entrepreneurship\" \"Entrepreneurship\" \"Researcher\" \"Work for a company\" ...\n",
      " $ Prefer.Country    : chr  \"Japan\" \"Cambodia\" \"Japan\" \"Japan\" ...\n",
      " $ Career.Type       : chr  \"Data Scientist, Database Administrator\" \"Web Development\" \"Data Scientist, Database Administrator\" \"Web Development, UX/UI, Mobile application development\" ...\n"
     ]
    }
   ],
   "source": [
    "# 6. Use str() to know about the list of variable and data type of each variables\n",
    "\n",
    "str(dataset)"
   ]
  },
  {
   "cell_type": "markdown",
   "id": "drawn-beaver",
   "metadata": {},
   "source": [
    "#### 8. Perform the numeric and graphical analyzation\n",
    "        8.1. Mean, Median, Mode (Central tendency)\n",
    "        8.2. Find variance and SD\n",
    "        8.3. Range and Quantile\n",
    "        8.4. Use Summary function to verify your answers\n",
    "        8.5. Filter the random samples using pipe operator\n",
    "        8.6. Try to understand the seed function\n",
    "        8.7. If your dataset’s variables are quantitative, try to plot Histogram and Box plot, Dot plot, Density plot (Using ggplot)\n",
    "        8.8. If your dataset’s variables are qualitative, try to plot Bar chart, Pie chart (Using ggplot)"
   ]
  },
  {
   "cell_type": "code",
   "execution_count": 6,
   "id": "placed-economics",
   "metadata": {},
   "outputs": [],
   "source": [
    "# Assign Internship Rate variable to x for further use\n",
    "\n",
    "x <- dataset$Internship.Rate"
   ]
  },
  {
   "cell_type": "code",
   "execution_count": 7,
   "id": "armed-prince",
   "metadata": {},
   "outputs": [
    {
     "data": {
      "text/html": [
       "3.36184210526316"
      ],
      "text/latex": [
       "3.36184210526316"
      ],
      "text/markdown": [
       "3.36184210526316"
      ],
      "text/plain": [
       "[1] 3.361842"
      ]
     },
     "metadata": {},
     "output_type": "display_data"
    }
   ],
   "source": [
    "# mean() used to find the mean value of particular variable\n",
    "\n",
    "mean(x)"
   ]
  },
  {
   "cell_type": "code",
   "execution_count": 8,
   "id": "focal-florence",
   "metadata": {},
   "outputs": [
    {
     "data": {
      "text/html": [
       "3"
      ],
      "text/latex": [
       "3"
      ],
      "text/markdown": [
       "3"
      ],
      "text/plain": [
       "[1] 3"
      ]
     },
     "metadata": {},
     "output_type": "display_data"
    }
   ],
   "source": [
    "# median() used to find the mean value of particular variable\n",
    "\n",
    "median(x)"
   ]
  },
  {
   "cell_type": "code",
   "execution_count": 9,
   "id": "regulated-prescription",
   "metadata": {},
   "outputs": [
    {
     "data": {
      "text/html": [
       "3"
      ],
      "text/latex": [
       "3"
      ],
      "text/markdown": [
       "3"
      ],
      "text/plain": [
       "[1] 3"
      ]
     },
     "metadata": {},
     "output_type": "display_data"
    }
   ],
   "source": [
    "# Mode is the value that has highest number of occurrences in a set of data.\n",
    "# Create the mode function because in R there is no mode() built-in function to find mode value.\n",
    "\n",
    "# getmode() to find mode value\n",
    "getmode <- function(v) {\n",
    "   uniqv <- unique(v)\n",
    "   uniqv[which.max(tabulate(match(v, uniqv)))]\n",
    "}\n",
    "\n",
    "# calling getmode()\n",
    "getmode(x)"
   ]
  },
  {
   "cell_type": "code",
   "execution_count": 10,
   "id": "headed-antibody",
   "metadata": {},
   "outputs": [
    {
     "data": {
      "text/html": [
       "0.563567445102823"
      ],
      "text/latex": [
       "0.563567445102823"
      ],
      "text/markdown": [
       "0.563567445102823"
      ],
      "text/plain": [
       "[1] 0.5635674"
      ]
     },
     "metadata": {},
     "output_type": "display_data"
    }
   ],
   "source": [
    "# variance() used to find sample variance value\n",
    "\n",
    "var(x)"
   ]
  },
  {
   "cell_type": "code",
   "execution_count": 11,
   "id": "floral-realtor",
   "metadata": {},
   "outputs": [
    {
     "data": {
      "text/html": [
       "0.750711292776939"
      ],
      "text/latex": [
       "0.750711292776939"
      ],
      "text/markdown": [
       "0.750711292776939"
      ],
      "text/plain": [
       "[1] 0.7507113"
      ]
     },
     "metadata": {},
     "output_type": "display_data"
    }
   ],
   "source": [
    "# sd() used to find sample standard derivation value\n",
    "\n",
    "sd(x)"
   ]
  },
  {
   "cell_type": "code",
   "execution_count": 12,
   "id": "middle-utility",
   "metadata": {},
   "outputs": [
    {
     "data": {
      "text/html": [
       "<style>\n",
       ".list-inline {list-style: none; margin:0; padding: 0}\n",
       ".list-inline>li {display: inline-block}\n",
       ".list-inline>li:not(:last-child)::after {content: \"\\00b7\"; padding: 0 .5ex}\n",
       "</style>\n",
       "<ol class=list-inline><li>1</li><li>5</li></ol>\n"
      ],
      "text/latex": [
       "\\begin{enumerate*}\n",
       "\\item 1\n",
       "\\item 5\n",
       "\\end{enumerate*}\n"
      ],
      "text/markdown": [
       "1. 1\n",
       "2. 5\n",
       "\n",
       "\n"
      ],
      "text/plain": [
       "[1] 1 5"
      ]
     },
     "metadata": {},
     "output_type": "display_data"
    }
   ],
   "source": [
    "# range() used to find min and max value of variable\n",
    "\n",
    "range(x)"
   ]
  },
  {
   "cell_type": "code",
   "execution_count": 13,
   "id": "desperate-queue",
   "metadata": {},
   "outputs": [
    {
     "data": {
      "text/html": [
       "<style>\n",
       ".dl-inline {width: auto; margin:0; padding: 0}\n",
       ".dl-inline>dt, .dl-inline>dd {float: none; width: auto; display: inline-block}\n",
       ".dl-inline>dt::after {content: \":\\0020\"; padding-right: .5ex}\n",
       ".dl-inline>dt:not(:first-of-type) {padding-left: .5ex}\n",
       "</style><dl class=dl-inline><dt>0%</dt><dd>1</dd><dt>25%</dt><dd>3</dd><dt>50%</dt><dd>3</dd><dt>75%</dt><dd>4</dd><dt>100%</dt><dd>5</dd></dl>\n"
      ],
      "text/latex": [
       "\\begin{description*}\n",
       "\\item[0\\textbackslash{}\\%] 1\n",
       "\\item[25\\textbackslash{}\\%] 3\n",
       "\\item[50\\textbackslash{}\\%] 3\n",
       "\\item[75\\textbackslash{}\\%] 4\n",
       "\\item[100\\textbackslash{}\\%] 5\n",
       "\\end{description*}\n"
      ],
      "text/markdown": [
       "0%\n",
       ":   125%\n",
       ":   350%\n",
       ":   375%\n",
       ":   4100%\n",
       ":   5\n",
       "\n"
      ],
      "text/plain": [
       "  0%  25%  50%  75% 100% \n",
       "   1    3    3    4    5 "
      ]
     },
     "metadata": {},
     "output_type": "display_data"
    }
   ],
   "source": [
    "# quantile() used to find quntile of variable\n",
    "\n",
    "quantile(x)"
   ]
  },
  {
   "cell_type": "code",
   "execution_count": 14,
   "id": "integral-anthropology",
   "metadata": {},
   "outputs": [
    {
     "data": {
      "text/plain": [
       "   Min. 1st Qu.  Median    Mean 3rd Qu.    Max. \n",
       "  1.000   3.000   3.000   3.362   4.000   5.000 "
      ]
     },
     "metadata": {},
     "output_type": "display_data"
    }
   ],
   "source": [
    "# summary() used to verify min, lower quntile, median, mean, upper quntile, and max values\n",
    "\n",
    "summary(x)"
   ]
  },
  {
   "cell_type": "code",
   "execution_count": 15,
   "id": "dressed-surface",
   "metadata": {},
   "outputs": [
    {
     "data": {
      "text/html": [
       "<table class=\"dataframe\">\n",
       "<caption>A data.frame: 10 × 9</caption>\n",
       "<thead>\n",
       "\t<tr><th scope=col>Batch</th><th scope=col>Year</th><th scope=col>Academic.Rate</th><th scope=col>Internship.Rate</th><th scope=col>Current.Preference</th><th scope=col>After.Graduate</th><th scope=col>Career.Path</th><th scope=col>Prefer.Country</th><th scope=col>Career.Type</th></tr>\n",
       "\t<tr><th scope=col>&lt;int&gt;</th><th scope=col>&lt;chr&gt;</th><th scope=col>&lt;int&gt;</th><th scope=col>&lt;int&gt;</th><th scope=col>&lt;chr&gt;</th><th scope=col>&lt;chr&gt;</th><th scope=col>&lt;chr&gt;</th><th scope=col>&lt;chr&gt;</th><th scope=col>&lt;chr&gt;</th></tr>\n",
       "</thead>\n",
       "<tbody>\n",
       "\t<tr><td>8</td><td>2nd</td><td>4</td><td>4</td><td>Programming   </td><td>Working                 </td><td>Work for a company</td><td>Japan   </td><td>Web Development, Data Scientist, Graphic Designer, Digital Marketing    </td></tr>\n",
       "\t<tr><td>6</td><td>3rd</td><td>4</td><td>4</td><td>Doing business</td><td>Working                 </td><td>Work for a company</td><td>Cambodia</td><td>Graphic Designer, Quality Assurance, Digital Marketing                  </td></tr>\n",
       "\t<tr><td>6</td><td>3rd</td><td>3</td><td>3</td><td>Programming   </td><td>Working                 </td><td>Work for a company</td><td>Japan   </td><td>Web Development, Mobile App Development, Game Development               </td></tr>\n",
       "\t<tr><td>6</td><td>3rd</td><td>8</td><td>5</td><td>Doing business</td><td>Working                 </td><td>Entrepreneurship  </td><td>Japan   </td><td>Web Development, Data Scientist, Database Administrator, Project Manager</td></tr>\n",
       "\t<tr><td>4</td><td>4th</td><td>3</td><td>4</td><td>Doing business</td><td>Pursue a master's degree</td><td>Work for a company</td><td>Cambodia</td><td>Web Development                                                         </td></tr>\n",
       "\t<tr><td>6</td><td>3rd</td><td>3</td><td>4</td><td>Doing business</td><td>Pursue a master's degree</td><td>Entrepreneurship  </td><td>Japan   </td><td>Web Development, Graphic Designer, Digital Marketing, Project Manager   </td></tr>\n",
       "\t<tr><td>6</td><td>3rd</td><td>4</td><td>3</td><td>Doing business</td><td>Working                 </td><td>Work for a company</td><td>Japan   </td><td>Web Development                                                         </td></tr>\n",
       "\t<tr><td>4</td><td>4th</td><td>3</td><td>3</td><td>Programming   </td><td>Working                 </td><td>Work for a company</td><td>Japan   </td><td>Web Development, Graphic Designer, UX/UI, Database Administrator        </td></tr>\n",
       "\t<tr><td>6</td><td>3rd</td><td>3</td><td>3</td><td>Programming   </td><td>Pursue a master's degree</td><td>Entrepreneurship  </td><td>Japan   </td><td>Web Development, Project Manager                                        </td></tr>\n",
       "\t<tr><td>4</td><td>4th</td><td>4</td><td>4</td><td>Doing business</td><td>Working                 </td><td>Entrepreneurship  </td><td>Cambodia</td><td>Project Manager, Business                                               </td></tr>\n",
       "</tbody>\n",
       "</table>\n"
      ],
      "text/latex": [
       "A data.frame: 10 × 9\n",
       "\\begin{tabular}{lllllllll}\n",
       " Batch & Year & Academic.Rate & Internship.Rate & Current.Preference & After.Graduate & Career.Path & Prefer.Country & Career.Type\\\\\n",
       " <int> & <chr> & <int> & <int> & <chr> & <chr> & <chr> & <chr> & <chr>\\\\\n",
       "\\hline\n",
       "\t 8 & 2nd & 4 & 4 & Programming    & Working                  & Work for a company & Japan    & Web Development, Data Scientist, Graphic Designer, Digital Marketing    \\\\\n",
       "\t 6 & 3rd & 4 & 4 & Doing business & Working                  & Work for a company & Cambodia & Graphic Designer, Quality Assurance, Digital Marketing                  \\\\\n",
       "\t 6 & 3rd & 3 & 3 & Programming    & Working                  & Work for a company & Japan    & Web Development, Mobile App Development, Game Development               \\\\\n",
       "\t 6 & 3rd & 8 & 5 & Doing business & Working                  & Entrepreneurship   & Japan    & Web Development, Data Scientist, Database Administrator, Project Manager\\\\\n",
       "\t 4 & 4th & 3 & 4 & Doing business & Pursue a master's degree & Work for a company & Cambodia & Web Development                                                         \\\\\n",
       "\t 6 & 3rd & 3 & 4 & Doing business & Pursue a master's degree & Entrepreneurship   & Japan    & Web Development, Graphic Designer, Digital Marketing, Project Manager   \\\\\n",
       "\t 6 & 3rd & 4 & 3 & Doing business & Working                  & Work for a company & Japan    & Web Development                                                         \\\\\n",
       "\t 4 & 4th & 3 & 3 & Programming    & Working                  & Work for a company & Japan    & Web Development, Graphic Designer, UX/UI, Database Administrator        \\\\\n",
       "\t 6 & 3rd & 3 & 3 & Programming    & Pursue a master's degree & Entrepreneurship   & Japan    & Web Development, Project Manager                                        \\\\\n",
       "\t 4 & 4th & 4 & 4 & Doing business & Working                  & Entrepreneurship   & Cambodia & Project Manager, Business                                               \\\\\n",
       "\\end{tabular}\n"
      ],
      "text/markdown": [
       "\n",
       "A data.frame: 10 × 9\n",
       "\n",
       "| Batch &lt;int&gt; | Year &lt;chr&gt; | Academic.Rate &lt;int&gt; | Internship.Rate &lt;int&gt; | Current.Preference &lt;chr&gt; | After.Graduate &lt;chr&gt; | Career.Path &lt;chr&gt; | Prefer.Country &lt;chr&gt; | Career.Type &lt;chr&gt; |\n",
       "|---|---|---|---|---|---|---|---|---|\n",
       "| 8 | 2nd | 4 | 4 | Programming    | Working                  | Work for a company | Japan    | Web Development, Data Scientist, Graphic Designer, Digital Marketing     |\n",
       "| 6 | 3rd | 4 | 4 | Doing business | Working                  | Work for a company | Cambodia | Graphic Designer, Quality Assurance, Digital Marketing                   |\n",
       "| 6 | 3rd | 3 | 3 | Programming    | Working                  | Work for a company | Japan    | Web Development, Mobile App Development, Game Development                |\n",
       "| 6 | 3rd | 8 | 5 | Doing business | Working                  | Entrepreneurship   | Japan    | Web Development, Data Scientist, Database Administrator, Project Manager |\n",
       "| 4 | 4th | 3 | 4 | Doing business | Pursue a master's degree | Work for a company | Cambodia | Web Development                                                          |\n",
       "| 6 | 3rd | 3 | 4 | Doing business | Pursue a master's degree | Entrepreneurship   | Japan    | Web Development, Graphic Designer, Digital Marketing, Project Manager    |\n",
       "| 6 | 3rd | 4 | 3 | Doing business | Working                  | Work for a company | Japan    | Web Development                                                          |\n",
       "| 4 | 4th | 3 | 3 | Programming    | Working                  | Work for a company | Japan    | Web Development, Graphic Designer, UX/UI, Database Administrator         |\n",
       "| 6 | 3rd | 3 | 3 | Programming    | Pursue a master's degree | Entrepreneurship   | Japan    | Web Development, Project Manager                                         |\n",
       "| 4 | 4th | 4 | 4 | Doing business | Working                  | Entrepreneurship   | Cambodia | Project Manager, Business                                                |\n",
       "\n"
      ],
      "text/plain": [
       "   Batch Year Academic.Rate Internship.Rate Current.Preference\n",
       "1  8     2nd  4             4               Programming       \n",
       "2  6     3rd  4             4               Doing business    \n",
       "3  6     3rd  3             3               Programming       \n",
       "4  6     3rd  8             5               Doing business    \n",
       "5  4     4th  3             4               Doing business    \n",
       "6  6     3rd  3             4               Doing business    \n",
       "7  6     3rd  4             3               Doing business    \n",
       "8  4     4th  3             3               Programming       \n",
       "9  6     3rd  3             3               Programming       \n",
       "10 4     4th  4             4               Doing business    \n",
       "   After.Graduate           Career.Path        Prefer.Country\n",
       "1  Working                  Work for a company Japan         \n",
       "2  Working                  Work for a company Cambodia      \n",
       "3  Working                  Work for a company Japan         \n",
       "4  Working                  Entrepreneurship   Japan         \n",
       "5  Pursue a master's degree Work for a company Cambodia      \n",
       "6  Pursue a master's degree Entrepreneurship   Japan         \n",
       "7  Working                  Work for a company Japan         \n",
       "8  Working                  Work for a company Japan         \n",
       "9  Pursue a master's degree Entrepreneurship   Japan         \n",
       "10 Working                  Entrepreneurship   Cambodia      \n",
       "   Career.Type                                                             \n",
       "1  Web Development, Data Scientist, Graphic Designer, Digital Marketing    \n",
       "2  Graphic Designer, Quality Assurance, Digital Marketing                  \n",
       "3  Web Development, Mobile App Development, Game Development               \n",
       "4  Web Development, Data Scientist, Database Administrator, Project Manager\n",
       "5  Web Development                                                         \n",
       "6  Web Development, Graphic Designer, Digital Marketing, Project Manager   \n",
       "7  Web Development                                                         \n",
       "8  Web Development, Graphic Designer, UX/UI, Database Administrator        \n",
       "9  Web Development, Project Manager                                        \n",
       "10 Project Manager, Business                                               "
      ]
     },
     "metadata": {},
     "output_type": "display_data"
    }
   ],
   "source": [
    "# sample_n() will return the random sample from the dataset base on n number\n",
    "\n",
    "random <- dataset %>% sample_n(10)\n",
    "random"
   ]
  },
  {
   "cell_type": "markdown",
   "id": "processed-pakistan",
   "metadata": {},
   "source": [
    "#### seed()\n",
    "The set.seed() function sets the starting number used to generate a sequence of random numbers – it ensures that you get the same result if you start with that same seed each time you run the same process. For example, if I use the sample() function immediately after setting a seed, I will always get the same sample."
   ]
  },
  {
   "cell_type": "code",
   "execution_count": 16,
   "id": "alike-rochester",
   "metadata": {},
   "outputs": [
    {
     "data": {
      "text/html": [
       "<style>\n",
       ".list-inline {list-style: none; margin:0; padding: 0}\n",
       ".list-inline>li {display: inline-block}\n",
       ".list-inline>li:not(:last-child)::after {content: \"\\00b7\"; padding: 0 .5ex}\n",
       "</style>\n",
       "<ol class=list-inline><li>9</li><li>4</li><li>7</li><li>1</li><li>2</li><li>5</li><li>3</li><li>10</li><li>6</li><li>8</li></ol>\n"
      ],
      "text/latex": [
       "\\begin{enumerate*}\n",
       "\\item 9\n",
       "\\item 4\n",
       "\\item 7\n",
       "\\item 1\n",
       "\\item 2\n",
       "\\item 5\n",
       "\\item 3\n",
       "\\item 10\n",
       "\\item 6\n",
       "\\item 8\n",
       "\\end{enumerate*}\n"
      ],
      "text/markdown": [
       "1. 9\n",
       "2. 4\n",
       "3. 7\n",
       "4. 1\n",
       "5. 2\n",
       "6. 5\n",
       "7. 3\n",
       "8. 10\n",
       "9. 6\n",
       "10. 8\n",
       "\n",
       "\n"
      ],
      "text/plain": [
       " [1]  9  4  7  1  2  5  3 10  6  8"
      ]
     },
     "metadata": {},
     "output_type": "display_data"
    }
   ],
   "source": [
    "set.seed(1)\n",
    "sample(10)"
   ]
  },
  {
   "cell_type": "code",
   "execution_count": 17,
   "id": "essential-objective",
   "metadata": {},
   "outputs": [
    {
     "data": {
      "text/html": [
       "<style>\n",
       ".list-inline {list-style: none; margin:0; padding: 0}\n",
       ".list-inline>li {display: inline-block}\n",
       ".list-inline>li:not(:last-child)::after {content: \"\\00b7\"; padding: 0 .5ex}\n",
       "</style>\n",
       "<ol class=list-inline><li>9</li><li>4</li><li>7</li><li>1</li><li>2</li><li>5</li><li>3</li><li>10</li><li>6</li><li>8</li></ol>\n"
      ],
      "text/latex": [
       "\\begin{enumerate*}\n",
       "\\item 9\n",
       "\\item 4\n",
       "\\item 7\n",
       "\\item 1\n",
       "\\item 2\n",
       "\\item 5\n",
       "\\item 3\n",
       "\\item 10\n",
       "\\item 6\n",
       "\\item 8\n",
       "\\end{enumerate*}\n"
      ],
      "text/markdown": [
       "1. 9\n",
       "2. 4\n",
       "3. 7\n",
       "4. 1\n",
       "5. 2\n",
       "6. 5\n",
       "7. 3\n",
       "8. 10\n",
       "9. 6\n",
       "10. 8\n",
       "\n",
       "\n"
      ],
      "text/plain": [
       " [1]  9  4  7  1  2  5  3 10  6  8"
      ]
     },
     "metadata": {},
     "output_type": "display_data"
    }
   ],
   "source": [
    "set.seed(1)\n",
    "sample(10)"
   ]
  },
  {
   "cell_type": "markdown",
   "id": "caring-manufacturer",
   "metadata": {},
   "source": [
    "But if I am not using the same seed, sample() will generate another random sample."
   ]
  },
  {
   "cell_type": "code",
   "execution_count": 18,
   "id": "certified-decision",
   "metadata": {},
   "outputs": [
    {
     "data": {
      "text/html": [
       "<style>\n",
       ".list-inline {list-style: none; margin:0; padding: 0}\n",
       ".list-inline>li {display: inline-block}\n",
       ".list-inline>li:not(:last-child)::after {content: \"\\00b7\"; padding: 0 .5ex}\n",
       "</style>\n",
       "<ol class=list-inline><li>3</li><li>1</li><li>5</li><li>8</li><li>2</li><li>6</li><li>10</li><li>9</li><li>4</li><li>7</li></ol>\n"
      ],
      "text/latex": [
       "\\begin{enumerate*}\n",
       "\\item 3\n",
       "\\item 1\n",
       "\\item 5\n",
       "\\item 8\n",
       "\\item 2\n",
       "\\item 6\n",
       "\\item 10\n",
       "\\item 9\n",
       "\\item 4\n",
       "\\item 7\n",
       "\\end{enumerate*}\n"
      ],
      "text/markdown": [
       "1. 3\n",
       "2. 1\n",
       "3. 5\n",
       "4. 8\n",
       "5. 2\n",
       "6. 6\n",
       "7. 10\n",
       "8. 9\n",
       "9. 4\n",
       "10. 7\n",
       "\n",
       "\n"
      ],
      "text/plain": [
       " [1]  3  1  5  8  2  6 10  9  4  7"
      ]
     },
     "metadata": {},
     "output_type": "display_data"
    }
   ],
   "source": [
    "sample(10)"
   ]
  },
  {
   "cell_type": "markdown",
   "id": "modern-wright",
   "metadata": {},
   "source": [
    "#### Visualization \n",
    "In this part, we will plot data base on Batch and Internship Rate. So this is the quantitative data.  \n",
    "Plotting graph using ggplot2 library:\n",
    "- Histogram and \n",
    "- Box plot\n",
    "- Dot plot\n",
    "- Density plot"
   ]
  },
  {
   "cell_type": "code",
   "execution_count": 19,
   "id": "introductory-delivery",
   "metadata": {},
   "outputs": [
    {
     "name": "stderr",
     "output_type": "stream",
     "text": [
      "`stat_bin()` using `bins = 30`. Pick better value with `binwidth`.\n",
      "\n"
     ]
    },
    {
     "data": {
      "image/png": "[encoded data removed]",
      "text/plain": [
       "plot without title"
      ]
     },
     "metadata": {
      "image/png": {
       "height": 420,
       "width": 420
      }
     },
     "output_type": "display_data"
    }
   ],
   "source": [
    "# Histogram plotting\n",
    "\n",
    "hist <- dataset %>% ggplot(aes(Internship.Rate)) +\n",
    "  geom_histogram(color=\"darkblue\", fill=\"lightblue\") \n",
    "\n",
    "hist"
   ]
  },
  {
   "cell_type": "code",
   "execution_count": 21,
   "id": "noticed-winning",
   "metadata": {},
   "outputs": [
    {
     "name": "stderr",
     "output_type": "stream",
     "text": [
      "Warning message:\n",
      "\"Continuous x aesthetic -- did you forget aes(group=...)?\"\n"
     ]
    },
    {
     "data": {
      "image/png": "[encoded data removed]",
      "text/plain": [
       "plot without title"
      ]
     },
     "metadata": {
      "image/png": {
       "height": 420,
       "width": 420
      }
     },
     "output_type": "display_data"
    }
   ],
   "source": [
    "# Box plotting\n",
    "\n",
    "box <- dataset %>% ggplot(aes(Batch, Internship.Rate)) +\n",
    "        geom_boxplot(fill = \"#56B4E9\", color = \"red\") +\n",
    "        theme_classic()\n",
    "box"
   ]
  },
  {
   "cell_type": "code",
   "execution_count": 22,
   "id": "touched-mystery",
   "metadata": {},
   "outputs": [
    {
     "data": {
      "image/png": "[encoded data removed]",
      "text/plain": [
       "plot without title"
      ]
     },
     "metadata": {
      "image/png": {
       "height": 420,
       "width": 420
      }
     },
     "output_type": "display_data"
    }
   ],
   "source": [
    "# Dot plotting\n",
    "\n",
    "dot <- dataset %>% ggplot(aes(Internship.Rate, Batch)) + \n",
    "      geom_dotplot(binaxis='y', stackdir='center',  dotsize=0.1, binwidth=0.85)\n",
    "\n",
    "dot "
   ]
  },
  {
   "cell_type": "code",
   "execution_count": 23,
   "id": "impressive-testing",
   "metadata": {},
   "outputs": [
    {
     "data": {
      "image/png": "[encoded data removed]",
      "text/plain": [
       "plot without title"
      ]
     },
     "metadata": {
      "image/png": {
       "height": 420,
       "width": 420
      }
     },
     "output_type": "display_data"
    }
   ],
   "source": [
    "# Density plotting\n",
    "\n",
    "density <- dataset %>% ggplot(aes(x=Internship.Rate))+\n",
    "  geom_density(color=\"darkblue\", fill=\"lightblue\")\n",
    "\n",
    "density"
   ]
  }
 ],
 "metadata": {
  "kernelspec": {
   "display_name": "R",
   "language": "R",
   "name": "ir"
  },
  "language_info": {
   "codemirror_mode": "r",
   "file_extension": ".r",
   "mimetype": "text/x-r-source",
   "name": "R",
   "pygments_lexer": "r",
   "version": "4.0.3"
  }
 },
 "nbformat": 4,
 "nbformat_minor": 5
}
